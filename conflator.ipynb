{
 "cells": [
  {
   "cell_type": "code",
   "execution_count": 535,
   "metadata": {},
   "outputs": [],
   "source": [
    "from pathlib import Path\n",
    "import configparser\n",
    "from psycopg2 import connect\n",
    "import pandas.io.sql as pandasql\n",
    "from IPython.display import HTML\n",
    "from psycopg2.extras import execute_values\n",
    "import requests\n",
    "from psycopg2.extras import RealDictCursor\n",
    "import json\n",
    "CONFIG = configparser.ConfigParser()\n",
    "CONFIG.read(str(Path.home().joinpath('db.cfg')))\n",
    "dbset = CONFIG['DBSETTINGS']\n",
    "con = connect(**dbset)"
   ]
  },
  {
   "cell_type": "code",
   "execution_count": 623,
   "metadata": {},
   "outputs": [
    {
     "name": "stdout",
     "output_type": "stream",
     "text": [
      "['389Westbound', '389Eastbound', '465Eastbound', '475Eastbound', '475Westbound', '491Eastbound', '491Westbound', '932Eastbound', '932Westbound', '1237Southbound', '1341Northbound', '1342Westbound', '1349Southbound', '1349Northbound', '1533Westbound', '7381Westbound', '7381Eastbound', '7396Eastbound', '7508Eastbound', '7821Northbound', '8161Northbound', '8161Southbound', '8184Northbound', '8184Southbound', '8274Southbound', '8379Eastbound', '8379Westbound', '8537Southbound', '8682Northbound', '8682Southbound', '8741Southbound', '8821Southbound', '9406Westbound', '9406Eastbound', '9407Eastbound', '9407Westbound', '102865Southbound', '102865Northbound', '102868Westbound', '102868Eastbound', '102907Eastbound', '102907Westbound', '103192Eastbound', '103192Westbound', '103371Eastbound', '103371Westbound', '103422direction1', '103422direction2', '103558direction2', '103558direction1', '103638direction2', '103638direction1', '103774Southbound', '103774Northbound', '103898direction1', '103898direction2', '103909direction2', '103909direction1', '103923Westbound', '103923Eastbound', '104386Northbound', '104386Southbound', '104484direction2', '104484direction1', '104563Eastbound', '104563Westbound', '104632direction2', '104632direction1', '104709Eastbound', '104709Westbound', '105118direction1', '105118direction2', '105126Eastbound', '105126Westbound', '105309Eastbound', '105309Westbound', '105364Southbound', '105364Northbound', '105463direction2', '105463direction1', '105557Northbound', '105557Southbound', '105707Northbound', '105707Southbound', '106100Southbound', '106100Northbound', '106138direction2', '106138direction1', '106549direction2', '106549direction1', '106620Eastbound', '106837Eastbound', '106837Westbound', '106847Eastbound', '106847Westbound', '107146Westbound', '107165Westbound', '107165Eastbound', '107246Eastbound', '107246Westbound', '108003direction1', '108003direction2', '108036Southbound', '108319Westbound', '108319Eastbound', '108334Southbound', '108334Northbound', '108541Northbound', '108541Southbound', '108567direction2', '108567direction1', '109447Eastbound', '109447Westbound', '109523Eastbound', '109523Westbound', '109633Southbound', '109633Northbound', '109707Southbound', '109707Northbound', '110016Southbound', '110016Northbound', '110079Northbound', '110079Southbound', '110452Southbound', '110452Northbound', '110595Eastbound', '110595Westbound', '110757Southbound', '110757Northbound', '110913Northbound', '110913Southbound', '111011Northbound', '111380Westbound', '111380Eastbound', '111483Eastbound', '111483Westbound', '112119Northbound', '112119Southbound', '112312Eastbound', '112312Westbound', '112618Eastbound', '112618Westbound', '112628Northbound', '112628Southbound', '112670Eastbound', '112670Westbound', '112747Eastbound', '112747Westbound', '112843Eastbound', '112843Westbound', '112919Southbound', '112919Northbound', '113026Eastbound', '113026Westbound', '113075Westbound', '113075Eastbound', '113095Westbound', '113095Eastbound', '113189Eastbound', '113189Westbound', '436601Northbound', '436601Southbound', '436663Westbound', '436663Eastbound', '436753Westbound', '436753Eastbound', '436864Westbound', '436864Eastbound', '436965Northbound', '436965Southbound', '437116Westbound', '437116Eastbound', '437285Southbound', '437285Northbound', '437348Northbound', '437348Southbound', '437503Westbound', '437503Eastbound', '437538Eastbound', '437538Westbound', '437583Northbound', '437583Southbound', '437907Westbound', '437907Eastbound', '438072Westbound', '438072Eastbound', '438089Northbound', '438141Southbound', '438141Northbound', '438164direction1', '438164direction2', '438225Northbound', '438225Southbound', '438314Southbound', '438314Northbound', '438414Southbound', '438414Northbound', '438477Eastbound', '438477Westbound', '438595Northbound', '438595Southbound', '438775Southbound', '438775Northbound', '439154Eastbound', '439154Westbound', '439335Northbound', '439520Westbound', '439520Eastbound', '439543Southbound', '439543Northbound', '439743Northbound', '439743Southbound', '439745Northbound', '439745Southbound', '439974Southbound', '439974Northbound', '440201Northbound', '440245Eastbound', '440245Westbound', '440339direction2', '440339direction1', '440613Southbound', '440613Northbound', '440718Southbound', '440718Northbound', '440837Eastbound', '440837Westbound', '441003Westbound', '441003Eastbound', '441105direction1', '441105direction2', '441256Northbound', '441256Southbound', '441298Southbound', '441298Northbound', '441507Northbound', '441507Southbound', '441612Eastbound', '441612Westbound', '441702Northbound', '441702Southbound', '441709Westbound', '441709Eastbound', '441733Eastbound', '441733Westbound', '441967Northbound', '441967Southbound', '442037direction1', '442037direction2', '442217Eastbound', '442217Westbound', '442326Eastbound', '442326Westbound', '442628Eastbound', '442628Westbound', '442638Westbound', '442638Eastbound', '443010Westbound', '443010Eastbound', '443047Northbound', '443047Southbound', '443113Northbound', '443113Southbound', '443132Southbound', '443132Northbound', '443242Southbound', '443242Northbound', '443925Northbound', '443925Southbound', '444237Southbound', '444237Northbound', '444427Northbound', '444427Southbound', '444470Eastbound', '444470Westbound', '444520Northbound', '444520Southbound', '444527Northbound', '444527Southbound', '444531Southbound', '444531Northbound', '445000Eastbound', '445000Westbound', '445071Eastbound', '445071Westbound', '445206Northbound', '445206Southbound', '445234Northbound', '445234Southbound', '445251Eastbound', '445251Westbound', '445345Westbound', '445605Westbound', '445605Eastbound', '445850Westbound', '445850Eastbound', '445851Northbound', '445851Southbound', '446076Southbound', '446076Northbound', '446087Southbound', '446087Northbound', '446275Northbound', '446275Southbound', '446576Southbound', '446576Northbound', '906452Southbound', '906709Northbound', '906709Southbound', '906732Southbound', '906732Northbound', '906824Eastbound', '906824Westbound', '907010Westbound', '907010Eastbound', '907267direction1', '907267direction2', '907285direction1', '907285direction2', '907427Westbound', '907427Eastbound', '907456Eastbound', '907456Westbound', '908031Eastbound', '908031Westbound', '908434Eastbound', '908434Westbound', '908517Northbound', '908517Southbound', '908522Southbound', '908522Northbound', '908552Westbound', '908705Southbound', '908705Northbound', '908785Northbound', '908785Southbound', '908802Northbound', '908802Southbound', '908814Southbound', '908814Northbound', '910158Northbound', '910158Southbound', '910257direction1', '910257direction2', '910339Northbound', '910339Southbound', '910844Westbound', '910844Eastbound', '911733Westbound', '911733Eastbound', '912024Westbound', '912033Northbound', '912038Westbound', '912099direction1', '912102Eastbound', '912207Westbound', '912207Eastbound', '912215Westbound', '912215Eastbound', '912303Southbound', '912303Northbound', '912632Eastbound', '913391Westbound', '913391Eastbound', '913527Southbound', '913540Eastbound', '913622Westbound', '913622Eastbound', '913623Westbound', '913763Westbound', '913763Eastbound', '913781Westbound', '913781Eastbound', '914117Westbound', '914117Eastbound', '914125Westbound', '914125Eastbound', '914289Southbound', '914289Northbound', '914399Northbound', '914399Southbound', '914694Southbound', '914694Northbound', '914718Northbound', '914718Southbound', '914763Westbound', '914763Eastbound', '1137991Northbound', '1137991Southbound', '1138007Northbound', '1138007Southbound', '1138090Eastbound', '1138380Westbound', '1138380Eastbound', '1138493Southbound', '1138502Northbound', '1138502Southbound', '1138593Southbound', '1138593Northbound', '1138598Southbound', '1138667Northbound', '1138667Southbound', '1138957Westbound', '1139004Northbound', '1139004Southbound', '1139314Westbound', '1139314Eastbound', '1139396Northbound', '1139396Southbound', '1139829Eastbound', '1139829Westbound', '1139958Eastbound', '1139958Westbound', '1140112Northbound', '1140286Westbound', '1140286Eastbound', '1140728Westbound', '1140765Westbound', '1140765Eastbound', '1140818Westbound', '1140925Westbound', '1141005Eastbound', '1141005Westbound', '1141112Northbound', '1141112Southbound', '1141145Northbound', '1141145Southbound', '1141210Northbound', '1141568Westbound', '1141568Eastbound', '1141613Eastbound', '1141613Westbound', '1141687Southbound', '1141687Northbound', '1141880Northbound', '1141880Southbound', '1142468Westbound', '1142568Northbound', '1142568Southbound', '1142579Northbound', '1142637Eastbound', '1142637Westbound', '1142735Northbound', '1142735Southbound', '1143631Westbound', '1144176Northbound', '1144305Westbound', '1144305Eastbound', '1144643Northbound', '1144744Southbound', '1144744Northbound', '1145908Eastbound', '1146764Southbound', '1146875Northbound', '1146875Southbound', '1147095Southbound', '1147187Southbound', '2016206direction1', '2016206direction2', '2115566Southbound', '2115566Northbound', '2219306Westbound', '2219306Eastbound', '2360241Eastbound', '2360241Westbound', '2426202Eastbound', '2426202Westbound', '2426527Eastbound', '2426527Westbound', '2642950Eastbound', '2652855Eastbound', '2652855Westbound', '2689015Westbound', '2689015Eastbound', '2820858Southbound', '2820858Northbound', '2842544Northbound', '2842544Southbound', '2884115Westbound', '2884115Eastbound', '2904844Eastbound', '2904844Westbound', '2944669Eastbound', '2944671Eastbound', '2962232Eastbound', '2962232Westbound', '3011299Southbound', '3011299Northbound', '3040888Northbound', '3040888Southbound', '3049233Eastbound', '3049233Westbound', '3086139Northbound', '3086139Southbound', '3093392Southbound', '3093392Northbound', '3102388direction1', '3102388direction2', '3111652Eastbound', '3111652Westbound', '3130453Southbound', '3232771Westbound', '3232771Eastbound', '3232775Southbound', '3277834Southbound', '3277834Northbound', '3299803Westbound', '3299803Eastbound', '3310436Eastbound', '3310436Westbound', '3369575Westbound', '3369575Eastbound', '3379932Southbound', '3379932Northbound', '3503403Westbound', '3503403Eastbound', '3521743Eastbound', '3521743Westbound', '3544345Southbound', '3544345Northbound', '3569253Southbound', '3569253Northbound', '3633189direction1', '3633189direction2', '3633499Northbound', '3633499Southbound', '3734666Westbound', '3734666Eastbound', '3735315Northbound', '3735315Southbound', '3905080Eastbound', '3905080Westbound', '4153070Eastbound', '4153070Westbound', '4341885Eastbound', '4341885Westbound', '4417441Northbound', '4417441Southbound', '4435732Northbound', '4435732Southbound', '4444972Southbound', '4444972Northbound', '4889327Westbound', '4889327Eastbound', '4890134Southbound', '4890134Northbound', '5000702Northbound', '5070435Westbound', '5070435Eastbound', '5145171Eastbound', '5145171Westbound', '5151780Southbound', '5151845Southbound', '5151845Northbound', '5158855direction1', '5158855direction2', '5266163Northbound', '5266163Southbound', '5329979Westbound', '5329979Eastbound', '5507892Westbound', '5507892Eastbound', '5527586Westbound', '5527586Eastbound', '5527804Southbound', '5527804Northbound', '5538257Westbound', '5538257Eastbound', '5538289Eastbound', '5538289Westbound', '5543911Eastbound', '5543911Westbound', '5588301Eastbound', '5588301Westbound', '5611780Westbound', '5611780Eastbound', '5611784Eastbound', '5611784Westbound', '5704646Westbound', '5704646Eastbound', '5729516Eastbound', '5729516Westbound', '5946489Southbound', '5946489Northbound', '5947397Westbound', '5947397Eastbound', '5947504Southbound', '5947504Northbound', '6001990Eastbound', '6001990Westbound', '6027215Westbound', '6027215Eastbound', '6058135Northbound', '6058135Southbound', '6058169Westbound', '6058169Eastbound', '6058203Eastbound', '6058203Westbound', '6168227Northbound', '6168227Southbound', '6282914Westbound', '6282914Eastbound', '6294611Eastbound', '6294611Westbound', '6303043Southbound', '6427700Northbound', '6427700Southbound', '6765648Westbound', '6765648Eastbound', '7017623Eastbound', '7017623Westbound', '7062876Northbound', '7103299Eastbound', '7103299Westbound', '7131245Westbound', '7131245Eastbound', '7131295Westbound', '7131295Eastbound', '7254144Northbound', '7254144Southbound', '7283575Westbound', '7283575Eastbound', '7369059Westbound', '7369059Eastbound', '7472046direction1', '7472046direction2', '7553361Northbound', '7571674Northbound', '7571674Southbound', '7576072Southbound', '7576072Northbound', '7636004Northbound', '7666469Westbound', '7666469Eastbound', '7705680Westbound', '7705680Eastbound', '7730110Westbound', '7930734Eastbound', '7950268Southbound', '7950268Northbound', '7950452Westbound', '7950452Eastbound', '7974546direction1', '7974546direction2', '7986376Westbound', '8005255Westbound', '8006294Westbound', '8006408Northbound', '8067838Eastbound', '8067838Westbound', '8106488Eastbound', '8106488Westbound', '8115492Westbound', '8115492Eastbound', '8133582Southbound', '8133582Northbound', '8140484Northbound', '8140484Southbound', '8211760Eastbound', '8237165Northbound', '8237165Southbound', '8237180Westbound', '8237180Eastbound', '8237905Southbound', '8237905Northbound', '8292536Eastbound', '8292536Westbound', '8312979Northbound', '8312979Southbound', '8407054Eastbound', '8407054Westbound', '8408357Westbound', '8408357Eastbound', '8571102Southbound', '8571256Westbound', '8594569Eastbound', '8594569Westbound', '8677015Eastbound', '8677015Westbound', '8677670Eastbound', '8677670Westbound', '8680820Eastbound', '8680820Westbound', '8740697Northbound', '8740697Southbound', '8741238Eastbound', '8741238Westbound', '9011734Northbound', '9038444Eastbound', '9038444Westbound', '9110268Southbound', '9110268Northbound', '9171408Eastbound', '9171408Westbound', '9212485Southbound', '9234465Northbound', '9234465Southbound', '9278643Eastbound', '9278643Westbound', '9344632Westbound', '9344632Eastbound', '9517317Westbound', '9517317Eastbound', '9544445Northbound', '9780433Southbound', '9780433Northbound', '9780443Westbound', '9780443Eastbound', '9796561Northbound', '9796562Westbound', '9796565Northbound', '9796565Southbound', '9848198Northbound', '9848198Southbound', '9848452Southbound', '9848452Northbound', '9963370Eastbound', '9963370Westbound', '10010630Eastbound', '10155403Eastbound', '10155403Westbound', '10305816Northbound', '10305816Southbound', '10340744Westbound', '10340744Eastbound', '10363904Eastbound', '10363904Westbound', '10364555Westbound', '10364555Eastbound', '10379151Eastbound', '10379151Westbound', '10527858Southbound', '10527858Northbound', '10536977Westbound', '10538196Northbound', '10538196Southbound', '10630383Eastbound', '10630383Westbound', '10630411Westbound', '10630411Eastbound', '10986292Westbound', '10986292Eastbound', '11110232Westbound', '11110232Eastbound', '11415001Westbound', '11541616Eastbound', '11541616Westbound', '12218231Southbound', '12218231Northbound', '12220829Southbound', '12220829Northbound', '12334582Westbound', '12335507Westbound', '12601203Northbound', '12601203Southbound', '12711797Southbound', '12711797Northbound', '13226500Westbound', '13226500Eastbound', '13410202Southbound', '13410202Northbound', '13969322Eastbound', '13969352Eastbound', '13969352Westbound', '13969361Westbound', '13969361Eastbound', '13973585Eastbound', '13973585Westbound', '13973586Westbound', '13973586Eastbound', '13973772Westbound', '13973772Eastbound', '13977463Eastbound', '13977463Westbound', '13990696Northbound', '13990696Southbound', '14013133Northbound', '14013894Westbound', '14013895Westbound', '14014592Southbound', '14015325Southbound', '14015325Northbound', '14015723Eastbound', '14017070Northbound', '14017071Northbound', '14017163Westbound', '14017164Westbound', '14018525Southbound', '14018766Southbound', '14018795Northbound', '14018930Northbound', '14019121Northbound', '14019148Northbound', '14019400Westbound', '14019484Southbound', '14019485Southbound', '14019896Southbound', '14019897Northbound', '14019897Southbound', '14019916Southbound', '14019919Southbound', '14020328Eastbound', '14020329Eastbound', '14020330Eastbound', '14021133Northbound', '14021133Southbound', '14021616Southbound', '14021616Northbound', '14022418Northbound', '14022464Eastbound', '14022601Northbound', '14023098Northbound', '14023466Northbound', '14024035Westbound', '14024035Eastbound', '14024740Southbound', '14024741Southbound', '14024742Southbound', '14024754Northbound', '14035987Southbound', '14036311Northbound', '14036312Northbound', '14036358Southbound', '14036359Southbound', '14036381Southbound', '14036826Eastbound', '14037115Northbound', '14037147Southbound', '14037290Southbound', '14037291Southbound', '14037319Eastbound', '14037328Northbound', '14037463Southbound', '14037463Northbound', '14046456Westbound', '14046456Eastbound', '14047406Northbound', '14047406Southbound', '14050993Westbound', '14050993Eastbound', '14066817Eastbound', '14066817Westbound', '14069009Southbound', '14069009Northbound', '14073984Westbound', '14074001Northbound', '14074004Northbound', '14074007Northbound', '14114197Southbound', '14114197Northbound', '14121120Westbound', '14121120Eastbound', '14171719Westbound', '14171719Eastbound', '14172269Northbound', '14173444Eastbound', '14173444Westbound', '14177700Eastbound', '14177700Westbound', '14183985Westbound', '14183985Eastbound', '14184507Westbound', '14184507Eastbound', '14191390Northbound', '14191390Southbound', '14203869Southbound', '14203869Northbound', '14228405Westbound', '14230240Northbound', '14230240Southbound', '14233034Northbound', '14233034Southbound', '14234481Eastbound', '14234481Westbound', '14236556Southbound', '14236556Northbound', '14249108direction2', '14249108direction1', '14254066Westbound', '14255342Eastbound', '14255342Westbound', '14311158Northbound', '14311158Southbound', '14600817Eastbound', '14600817Westbound', '14606932Northbound', '14606932Southbound', '14611729Eastbound', '14611729Westbound', '14628841Westbound', '14628841Eastbound', '14629084Southbound', '14629084Northbound', '14630158Westbound', '14630158Eastbound', '14639926Southbound', '14639926Northbound', '14659252Westbound', '14659252Eastbound', '14662488Eastbound', '14662909Northbound', '14662909Southbound', '14668361Westbound', '14669325direction1', '14669325direction2', '14672378Eastbound', '14672378Westbound', '14673430Southbound', '14673456Eastbound', '14673456Westbound', '14673767Eastbound', '14674623Eastbound', '14674623Westbound', '14677074Westbound', '14677074Eastbound', '14677910Southbound', '14677910Northbound', '14677918Southbound', '14677918Northbound', '20006155Eastbound', '20030277Southbound', '20030277Northbound', '20033071Southbound', '20033071Northbound', '20034718Eastbound', '20035198Southbound', '20036754Southbound', '20036754Northbound', '20037190Southbound', '20037489Eastbound', '20037489Westbound', '20037490Southbound', '20037490Northbound', '20038945Eastbound', '20040494Westbound', '20040494Eastbound', '20040834Eastbound', '20040834Westbound', '20041388Northbound', '20041388Southbound', '20041510Northbound', '20041510Southbound', '20041963Southbound', '20041963Northbound', '20042246Westbound', '20042247Westbound', '20042465Southbound', '20042466Southbound', '20042497Northbound', '20042816Eastbound', '20042817Westbound', '20042817Eastbound', '20044362Eastbound', '20044362Westbound', '20045555Southbound', '20045555Northbound', '20045672Westbound', '20045672Eastbound', '20048547Southbound', '20048606Northbound', '20048607Northbound', '20050010Southbound', '20050010Northbound', '20050024Northbound', '20050024Southbound', '20050211Westbound', '20050211Eastbound', '20050341Westbound', '20050341Eastbound', '20050415Westbound', '20050415Eastbound', '20050440Eastbound', '20050440Westbound', '20050662Westbound', '20050662Eastbound', '20050709Westbound', '20050709Eastbound', '20050765Eastbound', '20050765Westbound', '20050919Eastbound', '20050919Westbound', '20051094Westbound', '20051094Eastbound', '20051145Westbound', '20051145Eastbound', '20051177Northbound', '20051177Southbound', '20051185Westbound', '20051185Eastbound', '20051236Westbound', '20051236Eastbound', '20051266Eastbound', '20051266Westbound', '20051294Southbound', '20051294Northbound', '20051413Westbound', '20051413Eastbound', '20051762Eastbound', '20051762Westbound', '20051763Westbound', '20051763Eastbound', '20052326Northbound', '20052326Southbound', '20052345Eastbound', '20052345Westbound', '20052378Eastbound', '20052378Westbound', '20052397Northbound', '20052397Southbound', '20052470Westbound', '20052470Eastbound', '20052579Southbound', '20052579Northbound', '20052582Northbound', '20052582Southbound', '20053176Northbound', '20053176Southbound', '20053315Southbound', '20053315Northbound', '20053465Eastbound', '20053465Westbound', '20054641Northbound', '20054681Westbound', '20054934Westbound', '20054934Eastbound', '20055124Westbound', '20056558Eastbound', '20056559Eastbound', '20057496Westbound', '20057496Eastbound', '20061158direction1', '20061158direction2', '20073256Westbound', '20078758Eastbound', '20078758Westbound', '20079423Westbound', '20079423Eastbound', '20079428Northbound', '20079428Southbound', '20079457Eastbound', '20079457Westbound', '20079460Southbound', '20079460Northbound', '20079773Westbound', '20089450Westbound', '20089450Eastbound', '20089875Southbound', '20091981Southbound', '20110526Westbound', '20110526Eastbound', '20110653Northbound', '20112057Eastbound', '20112521Eastbound', '20112521Westbound', '20117925direction2', '20117925direction1', '20118211Westbound', '20118211Eastbound', '20119967Eastbound', '20119967Westbound', '20121839Southbound', '20121839Northbound', '20140868Northbound', '20140868Southbound', '20141001Westbound', '20141001Eastbound', '20154673direction1', '20154673direction2', '20165766Westbound', '20165766Eastbound', '20166998Southbound', '20166998Northbound', '20167490Eastbound', '20167490Westbound', '20233965Westbound', '20233965Eastbound', '20236174Northbound', '20236174Southbound', '20236501Eastbound', '20236501Westbound', '20236547Eastbound', '20236547Westbound', '20236633Westbound', '20237104Southbound', '20237104Northbound', '20353716Eastbound', '20353716Westbound', '20356719Eastbound', '20356719Westbound', '20357392Eastbound', '20357392Westbound', '20359213Southbound', '20359213Northbound', '30000290Eastbound', '30000290Westbound', '30000707Westbound', '30001654Westbound', '30001654Eastbound', '30004040Northbound', '30004040Southbound', '30004309Westbound', '30004309Eastbound', '30004444Westbound', '30004444Eastbound', '30004459Northbound', '30004459Southbound', '30004687Eastbound', '30004687Westbound', '30006678Southbound', '30006678Northbound', '30006804Westbound', '30006804Eastbound', '30007501Northbound', '30007501Southbound', '30008722Northbound', '30008722Southbound', '30008844Eastbound', '30008844Westbound', '30008913Northbound', '30008913Southbound', '30009333Westbound', '30009333Eastbound', '30009547Westbound', '30009547Eastbound', '30010586Westbound', '30010862Westbound', '30010862Eastbound', '30011644Southbound', '30011645Southbound', '30011719Eastbound', '30011719Westbound', '30011910Eastbound', '30011910Westbound', '30011913Eastbound', '30011913Westbound', '30012730Northbound', '30012730Southbound', '30014021Westbound', '30014021Eastbound', '30014222Eastbound', '30014222Westbound', '30015307Westbound', '30015307Eastbound', '30015799Westbound', '30015897Westbound', '30015897Eastbound', '30015905Westbound', '30015905Eastbound', '30017159Southbound', '30017205Northbound', '30017230Southbound', '30017340Northbound', '30017346Northbound', '30017349Southbound', '30017387Southbound', '30017394Northbound', '30017427Eastbound', '30017439Eastbound', '30017443Northbound', '30017460Eastbound', '30017464Northbound', '30017477Northbound', '30017480Northbound', '30017514Southbound', '30017525Eastbound', '30017529Westbound', '30017533Westbound', '30017549Southbound', '30017572Northbound', '30018236Northbound', '30018237Northbound', '30019151Southbound', '30019151Northbound', '30021273Westbound', '30021273Eastbound', '30021626Eastbound', '30021626Westbound', '30022271Westbound', '30024490Westbound', '30024490Eastbound', '30024658Southbound', '30024658Northbound', '30024691Eastbound', '30024691Westbound', '30024942Southbound', '30024942Northbound', '30024996Eastbound', '30024996Westbound', '30025002Eastbound', '30025002Westbound', '30025003Eastbound', '30025003Westbound', '30025108Eastbound', '30025108Westbound', '30025326Eastbound', '30027630Westbound', '30028870Northbound', '30028870Southbound', '30028910Westbound', '30028910Eastbound', '30029323Westbound', '30029323Eastbound', '30029530Northbound', '30029530Southbound', '30029531Northbound', '30029531Southbound', '30029779Westbound', '30029779Eastbound', '30029934Northbound', '30029934Southbound', '30031707Eastbound', '30031707Westbound', '30032431Southbound', '30032431Northbound', '30032779Southbound', '30032779Northbound', '30033050Eastbound', '30033050Westbound', '30033764Eastbound', '30033764Westbound', '30033812Southbound', '30033812Northbound', '30033860Westbound', '30033860Eastbound', '30033965Eastbound', '30033965Westbound', '30035982Westbound', '30035982Eastbound', '30037678Southbound', '30037678Northbound', '30037679Southbound', '30037754Eastbound', '30037754Westbound', '30038247Westbound', '30038247Eastbound', '30038248Eastbound', '30038248Westbound', '30038680Eastbound', '30038866Eastbound', '30038866Westbound', '30039859Eastbound', '30039859Westbound', '30040102Southbound', '30040102Northbound', '30042065Southbound', '30042065Northbound', '30042066Northbound', '30042066Southbound', '30042792Westbound', '30042792Eastbound', '30043039Southbound', '30043039Northbound', '30043635Southbound', '30044613Eastbound', '30044613Westbound', '30052797Eastbound', '30052797Westbound', '30053451Eastbound', '30053451Westbound', '30054916Northbound', '30054916Southbound', '30055125Southbound', '30055125Northbound', '30055255Westbound', '30055255Eastbound', '30055642Eastbound', '30055642Westbound', '30057384Southbound', '30057384Northbound', '30058394Westbound', '30058394Eastbound', '30058460Eastbound', '30058460Westbound', '30058506Westbound', '30058562Eastbound', '30058562Westbound', '30058574Eastbound', '30058574Westbound', '30058710Eastbound', '30058710Westbound', '30058958Northbound', '30058958Southbound', '30059099Westbound', '30059099Eastbound', '30059109Westbound', '30059109Eastbound', '30059136Eastbound', '30059136Westbound', '30059388Northbound', '30059388Southbound', '30059461Westbound', '30059461Eastbound', '30059474Westbound', '30059474Eastbound', '30059577Southbound', '30059577Northbound', '30059699Eastbound', '30059699Westbound', '30060565Westbound', '30060565Eastbound', '30061092Eastbound', '30061092Westbound', '30062055Westbound', '30062055Eastbound', '30062435Eastbound', '30062435Westbound', '30062555Northbound', '30062555Southbound', '30063113Westbound', '30063113Eastbound', '30063279Eastbound', '30063279Westbound', '30063412Eastbound', '30063412Westbound', '30063419Southbound', '30063419Northbound', '30063609Northbound', '30063609Southbound', '30063637Eastbound', '30063637Westbound', '30063699Southbound', '30063699Northbound', '30064610Northbound', '30065371Northbound', '30065371Southbound', '30065506Northbound', '30065506Southbound', '30066200Westbound', '30066200Eastbound', '30066294Eastbound', '30066294Westbound', '30067566Northbound', '30067566Southbound', '30067806Northbound', '30067806Southbound', '30068222Southbound', '30068222Northbound', '30068885Eastbound', '30068885Westbound', '30069258Southbound', '30069259Southbound', '30069997Eastbound', '30069998Eastbound', '30070188Southbound', '30070188Northbound', '30070190Southbound', '30070190Northbound', '30070194Eastbound', '30070194Westbound', '30070320Eastbound', '30070324Northbound', '30070324Southbound', '30070326Northbound', '30070326Southbound', '30070327Northbound', '30070327Southbound', '30070849Eastbound', '30070849Westbound', '30070850Eastbound', '30070850Westbound', '30071018Eastbound', '30071018Westbound', '30071133Westbound', '30071133Eastbound', '30071175Westbound', '30071175Eastbound', '30071707Southbound', '30071707Northbound', '30071840Westbound', '30072381Southbound', '30072743Eastbound', '30072743Westbound', '30072988Westbound', '30072988Eastbound', '30072992Eastbound', '30072992Westbound', '30073588Southbound', '30073588Northbound', '30073886Westbound', '30073886Eastbound', '30073887Eastbound', '30073887Westbound', '30074274Southbound', '30074308Eastbound', '30074308Westbound', '30074321Northbound', '30074321Southbound', '30074465Northbound', '30074465Southbound', '30074468Eastbound', '30074482Southbound', '30074482Northbound', '30074537Southbound', '30074537Northbound', '30074746Northbound', '30074746Southbound', '30075114Eastbound', '30075122Northbound', '30075122Southbound', '30075123Westbound', '30075123Eastbound', '30075157Eastbound', '30075157Westbound', '30075870Westbound', '30075870Eastbound', '30075873Northbound', '30075873Southbound', '30075977Northbound', '30075977Southbound', '30076007Northbound', '30076007Southbound', '30076077Eastbound', '30076077Westbound', '30076090Westbound', '30076090Eastbound', '30076390Eastbound', '30076390Westbound', '30076632Westbound', '30076632Eastbound', '30076661Southbound', '30076661Northbound', '30076793Eastbound', '30076793Westbound', '30076866Northbound', '30076866Southbound', '30078462Westbound', '30078462Eastbound', '30079632Eastbound', '30079632Westbound', '30079633Southbound', '30079633Northbound', '30079637Westbound', '30079637Eastbound', '30079845Southbound', '30079845Northbound', '30079846Northbound', '30079846Southbound', '30081736Westbound', '30081736Eastbound', '30081780Eastbound', '30081780Westbound', '30081781Westbound', '30081781Eastbound', '30081792Southbound', '30081792Northbound', '30081793Southbound', '30081793Northbound', '30082498Eastbound', '30082498Westbound', '30082539Eastbound', '30082539Westbound', '30082540Eastbound', '30082540Westbound', '30083198Southbound', '30083198Northbound', '30084059Westbound', '30084059Eastbound', '30087212Westbound', '30087212Eastbound', '30088482Northbound', '30088483Northbound', '30088484Eastbound', '30088484Westbound', '30088494Northbound', '30088549Northbound', '30088549Southbound', '30088577Northbound', '30089216Northbound', '30089216Southbound', '30089353Eastbound', '30089353Westbound', '30089354Westbound', '30089354Eastbound', '30089453Southbound', '30089453Northbound', '30089530Southbound', '30089530Northbound', '30089847Southbound', '30089847Northbound', '30089919Westbound', '30089919Eastbound', '30089920Eastbound', '30089920Westbound', '30090018Southbound', '30090018Northbound', '30090129Eastbound', '30090129Westbound', '30090510Westbound', '30091559Eastbound', '30091559Westbound', '30091561Westbound', '30091561Eastbound', '30091564Eastbound', '30091564Westbound', '30091565Eastbound', '30091565Westbound', '30091571Southbound', '30091571Northbound', '30091572Northbound', '30091572Southbound', '30091580Eastbound', '30091580Westbound', '30091583Eastbound', '30091583Westbound', '30091584Northbound', '30091584Southbound', '30091585Southbound', '30091585Northbound', '30091836Eastbound', '30092268Southbound', '30092268Northbound', '30093128Northbound', '30093128Southbound', '30093129Westbound', '30093129Eastbound', '30093994Northbound', '30093994Southbound', '30096837Eastbound', '30096837Westbound', '30097021Eastbound', '30097021Westbound', '30097298Westbound', '30097298Eastbound', '30097300Southbound', '30097300Northbound', '30097452Northbound', '30097452Southbound', '30097685Westbound', '30097685Eastbound', '30097686Westbound', '30097686Eastbound', '30097688Northbound', '30097688Southbound', '30098400Northbound', '30098400Southbound', '30098406Northbound', '30098406Southbound', '30098727Westbound', '30098727Eastbound', '30098740Northbound', '30098740Southbound', '30100055Eastbound', '30100056Eastbound', '30100522Westbound', '30100522Eastbound', '30101132Westbound', '30101132Eastbound', '30102141Northbound', '30102141Southbound', '30102180Northbound', '30102180Southbound', '30102204Westbound', '30102204Eastbound', '30102258Southbound', '30102258Northbound', '30102259Westbound', '30102259Eastbound', '30102275Westbound', '30102275Eastbound', '30102361Eastbound', '30102361Westbound', '30102651Westbound', '30102651Eastbound', '30102863Eastbound', '30102863Westbound', '30103197Northbound', '30103197Southbound', '30103400Southbound', '30103400Northbound', '30103503Eastbound', '30103503Westbound', '30103562Eastbound', '30103562Westbound', '30103712Northbound', '30103712Southbound', '30103885Eastbound', '30103885Westbound', '30103901Eastbound', '30103901Westbound', '30104099Eastbound', '30104099Westbound', '30104101Southbound', '30104101Northbound', '30104488Southbound', '30104488Northbound', '30104621Westbound', '30104621Eastbound', '30104925Northbound', '30104925Southbound', '30104937Westbound', '30104937Eastbound', '30104940Westbound', '30104940Eastbound', '30104942Eastbound', '30104942Westbound', '30104943Eastbound', '30104943Westbound', '30104944Northbound', '30104944Southbound', '30104945Southbound', '30104945Northbound', '30104946Southbound', '30104946Northbound', '30104952Southbound', '30104952Northbound', '30104953Northbound', '30104953Southbound', '30104959Eastbound', '30104959Westbound', '30104960Eastbound', '30104960Westbound', '30104961Eastbound', '30104961Westbound', '30105376Southbound', '30105376Northbound', '30105377Southbound', '30105377Northbound', '30105379Westbound', '30105379Eastbound', '30105380Eastbound', '30105380Westbound', '30106270Eastbound', '30106270Westbound', '30106273Westbound', '30106273Eastbound', '30106274Northbound', '30106274Southbound', '30106377Eastbound', '30106377Westbound', '30106477Westbound', '30106477Eastbound', '30106479Eastbound', '30106479Westbound', '30107721Eastbound', '30107721Westbound', '30107749Northbound', '30107749Southbound', '30107853Southbound', '30107853Northbound', '30108195Westbound', '30108195Eastbound', '30108217Northbound', '30109087Northbound', '30109087Southbound', '30111087Northbound', '30111093Westbound', '30111242Eastbound', '30111242Westbound', '30111247Northbound', '30111247Southbound', '30111306Eastbound', '30111306Westbound', '30111735Westbound', '30111735Eastbound', '30112241Westbound', '30112241Eastbound', '30112243Northbound', '30112243Southbound', '30112245Eastbound', '30112245Westbound', '30112874Eastbound', '30112874Westbound', '30112962Eastbound', '30112962Westbound', '30112964Westbound', '30112964Eastbound', '30113192Westbound', '30113192Eastbound', '30113240Southbound', '30113240Northbound', '30113241Southbound', '30113241Northbound', '30113243Eastbound', '30113243Westbound', '30113437Westbound', '30113437Eastbound', '30113475Westbound', '30113475Eastbound', '30113537Eastbound', '30113638Southbound', '30113638Northbound', '30113642Eastbound', '30113642Westbound', '30113675Southbound', '30113675Northbound', '30113676Southbound', '30113676Northbound', '30113678Southbound', '30113678Northbound']\n"
     ]
    }
   ],
   "source": [
    "# Pull data from Database\n",
    "count_sql = '''SELECT COUNT(*) \n",
    "                FROM gis_shared_streets.centreline_both_dir \n",
    "                WHERE FCODE_DESC IN ('Collector','Collector Ramp',\n",
    "                'Local','Major Arterial','Major Arterial Ramp','Minor Arterial',\n",
    "                'Minor Arterial Ramp','Pending') '''\n",
    "with con:\n",
    "    with con.cursor(cursor_factory=RealDictCursor) as cur:\n",
    "            cur.execute(count_sql)\n",
    "            count_results = cur.fetchall()\n",
    "            count = count_results[0]['count']\n",
    "            \n",
    "unmatched_gid = []\n",
    "null_matched = []\n",
    "\n",
    "for i in range(0, count, 500):\n",
    "    get_centreline_sql = '''SELECT 'Feature' as type,  json_build_object('geo_id', geo_id, 'direction', direction) as properties, ST_AsGeoJson(dir_geom)::json as geometry \n",
    "    FROM gis_shared_streets.centreline_both_dir WHERE FCODE_DESC IN ('Collector','Collector Ramp',\n",
    "    'Local','Major Arterial','Major Arterial Ramp','Minor Arterial',\n",
    "    'Minor Arterial Ramp','Pending') ORDER BY geo_id LIMIT {} OFFSET {}'''.format(500, i)\n",
    "\n",
    "    with con:\n",
    "        with con.cursor(cursor_factory=RealDictCursor) as cur:\n",
    "            cur.execute(get_centreline_sql)\n",
    "            results = cur.fetchall()\n",
    "            final_json = json.dumps({\"type\": \"FeatureCollection\",\n",
    "                                    \"features\": results})\n",
    "            \n",
    "# Send data to SharedStreets API    \n",
    "    base_url = \"https://api.sharedstreets.io/v0.1.0/match/geoms\"\n",
    "    apiKey = \"bdd23fa1-7ac5-4158-b354-22ec946bb575\"\n",
    "    params = {'ignoreDirection': 'false',\n",
    "              'bearingTolerance' : 45 ,\n",
    "              'searchRadius' : 60,\n",
    "              'auth' : apiKey,\n",
    "              'tileHierarchy': 6,\n",
    "              'dataSource': 'osm/planet-181029',\n",
    "              'lengthTolerance' : 0.60,\n",
    "              'snapTopology': 'true'\n",
    "             }\n",
    "    headers= {\"Content-type\": \"application/json; charset=UTF-8\"}\n",
    "    \n",
    "    r = requests.post(base_url, params = params, headers = headers, json = {\"type\": \"FeatureCollection\", \"features\": results})\n",
    "    returned_json = r.json()\n",
    "    feature = returned_json.get('matched').get('features')[0]\n",
    "    unmatched = returned_json.get('unmatched').get('features')\n",
    "    for feature in unmatched:\n",
    "        unmatched_id = feature['properties']['geo_id']\n",
    "        unmatched_direction = feature['properties']['direction']\n",
    "        try:      \n",
    "            unmatched_gid.append(str(int(unmatched_id)) + unmatched_direction)\n",
    "        except Exception as e:\n",
    "            print(\"unmatched: \" + str(e))\n",
    "            print(feature)\n",
    "            print()\n",
    "            print(unmatched_id)\n",
    "    \n",
    "# Send row to database\n",
    "    features = returned_json.get('matched').get('features')\n",
    "    rows = []\n",
    "    for feature in features:\n",
    "           \n",
    "        if  feature['properties']['section'][0] > feature['properties']['section'][1]:\n",
    "            feature['properties']['section'][0] = 0\n",
    "            feature['properties']['section'][1] = 0\n",
    "        if  feature['properties']['referenceId'] is None:\n",
    "            null_matched.append(str(int(feature['properties']['geo_id']))+feature['properties']['direction'])\n",
    "            continue\n",
    "        \n",
    "        \n",
    "        \n",
    "        row = (feature['properties']['referenceId'], \n",
    "                   feature['properties']['fromIntersectionId'],\n",
    "                   feature['properties']['toIntersectionId'],\n",
    "                   feature['properties']['roadClass'], \n",
    "                   feature['properties']['direction'],\n",
    "                   feature['properties']['referenceLength'],\n",
    "                   feature['properties']['side'], \n",
    "                   feature['properties'].get('score', None),\n",
    "                   '[' + str(feature['properties']['section'][0]) +', '+ str(feature['properties']['section'][1]) +')', \n",
    "                   'SRID=4326;LineString('+','.join(' '.join(str(x) for x in tup) for tup in feature['geometry']['coordinates'])+')', \n",
    "                   feature['properties']['originalFeature']['properties']['geo_id'],\n",
    "                   feature['properties']['originalFeature']['properties']['direction'])\n",
    "   \n",
    "\n",
    "        rows.append(row)\n",
    "        \n",
    "        \n",
    "\n",
    "    sql='INSERT INTO gis_shared_streets.centreline_both_dir_test (reference_id, from_intersection, to_intersection, road_class, direction, reference_length, side,score, section, geometry, geo_id, direction_centreline) VALUES %s'\n",
    "\n",
    "    with con:\n",
    "        with con.cursor() as cur:\n",
    "            execute_values(cur, \n",
    "                           sql, \n",
    "                           rows) \n",
    "            \n",
    "# Print unmatched features                \n",
    "print(unmatched_gid)"
   ]
  },
  {
   "cell_type": "code",
   "execution_count": 577,
   "metadata": {},
   "outputs": [
    {
     "data": {
      "text/plain": [
       "1689"
      ]
     },
     "execution_count": 577,
     "metadata": {},
     "output_type": "execute_result"
    }
   ],
   "source": [
    "len(unmatched_gid)"
   ]
  },
  {
   "cell_type": "code",
   "execution_count": 617,
   "metadata": {},
   "outputs": [
    {
     "name": "stdout",
     "output_type": "stream",
     "text": [
      "['389Eastbound', '389Westbound', '465Eastbound', '475Westbound', '475Eastbound', '491Westbound', '491Eastbound', '932Westbound', '932Eastbound', '1237Southbound', '1341Northbound', '1342Westbound', '1349Northbound', '1349Southbound', '1533Westbound', '7381Eastbound', '7381Westbound', '7396Eastbound', '7508Eastbound', '7821Northbound', '8161Southbound', '8161Northbound', '8184Southbound', '8184Northbound', '8274Southbound', '8379Westbound', '8379Eastbound', '8537Southbound', '8682Northbound', '8682Southbound', '8741Southbound', '8821Southbound', '9406Westbound', '9406Eastbound', '9407Westbound', '9407Eastbound', '102865Northbound', '102865Southbound', '102868Westbound', '102868Eastbound', '102907Eastbound', '102907Westbound', '103192Eastbound', '103192Westbound', '103371Westbound', '103371Eastbound', '103422direction1', '103422direction2', '103558direction1', '103558direction2', '103638direction1', '103638direction2', '103774Southbound', '103774Northbound', '103898direction2', '103898direction1', '103909direction2', '103909direction1', '103923Eastbound', '103923Westbound', '104386Northbound', '104386Southbound', '104484direction2', '104484direction1', '104563Westbound', '104563Eastbound', '104632direction1', '104632direction2', '104709Westbound', '105118direction2', '105118direction1', '105126Eastbound', '105126Westbound', '105309Eastbound', '105309Westbound', '105463direction1', '105463direction2', '105557Southbound', '105557Northbound', '105707Southbound', '105707Northbound', '106100Northbound', '106100Southbound', '106138direction2', '106138direction1', '106549direction2', '106549direction1', '106620Eastbound', '106837Eastbound', '106837Westbound', '106847Eastbound', '106847Westbound', '107146Westbound', '107165Westbound', '107165Eastbound', '107246Westbound', '107246Eastbound', '108003direction1', '108003direction2', '108036Southbound', '108319Westbound', '108319Eastbound', '108334Southbound', '108334Northbound', '108541Northbound', '108541Southbound', '108567direction2', '108567direction1', '109447Eastbound', '109447Westbound', '109523Westbound', '109523Eastbound', '109633Northbound', '109633Southbound', '109707Northbound', '109707Southbound', '110016Southbound', '110016Northbound', '110079Northbound', '110079Southbound', '110452Southbound', '110452Northbound', '110595Eastbound', '110595Westbound', '110757Southbound', '110757Northbound', '110913Southbound', '110913Northbound', '111011Northbound', '111380Eastbound', '111380Westbound', '111483Westbound', '111483Eastbound', '112119Northbound', '112119Southbound', '112312Westbound', '112312Eastbound', '112628Northbound', '112628Southbound', '112670Westbound', '112670Eastbound', '112747Westbound', '112747Eastbound', '112843Westbound', '112843Eastbound', '112919Southbound', '112919Northbound', '113026Westbound', '113026Eastbound', '113075Eastbound', '113075Westbound', '113095Westbound', '113095Eastbound', '113189Eastbound', '113189Westbound', '436601Southbound', '436601Northbound', '436663Westbound', '436663Eastbound', '436753Eastbound', '436753Westbound', '436864Eastbound', '436864Westbound', '436965Northbound', '436965Southbound', '437116Westbound', '437116Eastbound', '437285Southbound', '437285Northbound', '437348Southbound', '437348Northbound', '437503Eastbound', '437503Westbound', '437538Westbound', '437538Eastbound', '437583Northbound', '437583Southbound', '437907Westbound', '437907Eastbound', '438072Westbound', '438072Eastbound', '438089Northbound', '438141Northbound', '438141Southbound', '438164direction1', '438164direction2', '438225Southbound', '438225Northbound', '438314Southbound', '438314Northbound', '438414Northbound', '438414Southbound', '438477Westbound', '438477Eastbound', '438595Northbound', '438595Southbound', '438775Southbound', '439154Westbound', '439154Eastbound', '439335Northbound', '439520Eastbound', '439520Westbound', '439543Southbound', '439543Northbound', '439743Southbound', '439743Northbound', '439745Northbound', '439974Northbound', '439974Southbound', '440201Northbound', '440245Eastbound', '440245Westbound', '440339direction2', '440339direction1', '440613Northbound', '440613Southbound', '440718Northbound', '440718Southbound', '440837Eastbound', '440837Westbound', '441003Eastbound', '441003Westbound', '441105direction2', '441105direction1', '441256Southbound', '441256Northbound', '441298Southbound', '441298Northbound', '441507Northbound', '441507Southbound', '441612Eastbound', '441612Westbound', '441702Northbound', '441702Southbound', '441709Eastbound', '441709Westbound', '441733Eastbound', '441733Westbound', '441967Northbound', '441967Southbound', '442037direction2', '442037direction1', '442217Westbound', '442217Eastbound', '442326Westbound', '442326Eastbound', '442628Westbound', '442628Eastbound', '442638Westbound', '442638Eastbound', '443010Eastbound', '443010Westbound', '443047Southbound', '443047Northbound', '443113Northbound', '443113Southbound', '443132Southbound', '443132Northbound', '443242Northbound', '443242Southbound', '443925Southbound', '443925Northbound', '444237Southbound', '444237Northbound', '444427Northbound', '444427Southbound', '444470Westbound', '444470Eastbound', '444520Northbound', '444520Southbound', '444527Northbound', '444527Southbound', '444531Southbound', '444531Northbound', '445000Westbound', '445000Eastbound', '445071Eastbound', '445071Westbound', '445206Northbound', '445206Southbound', '445234Southbound', '445234Northbound', '445251Eastbound', '445251Westbound', '445345Westbound', '445605Eastbound', '445605Westbound', '445850Eastbound', '445850Westbound', '445851Southbound', '445851Northbound', '446076Southbound', '446076Northbound', '446087Northbound', '446087Southbound', '446275Southbound', '446275Northbound', '446576Northbound', '446576Southbound', '906452Southbound', '906709Southbound', '906709Northbound', '906732Northbound', '906732Southbound', '906824Eastbound', '906824Westbound', '907010Westbound', '907010Eastbound', '907267direction2', '907267direction1', '907285direction1', '907285direction2', '907427Eastbound', '907427Westbound', '907456Westbound', '907456Eastbound', '908031Eastbound', '908031Westbound', '908434Eastbound', '908434Westbound', '908517Southbound', '908517Northbound', '908522Northbound', '908522Southbound', '908552Westbound', '908705Southbound', '908705Northbound', '908785Northbound', '908785Southbound', '908802Northbound', '908802Southbound', '908814Northbound', '908814Southbound', '910158Southbound', '910158Northbound', '910257direction2', '910257direction1', '910339Southbound', '910339Northbound', '910844Westbound', '910844Eastbound', '912024Westbound', '912033Northbound', '912038Westbound', '912099direction1', '912102Eastbound', '912207Eastbound', '912207Westbound', '912215Westbound', '912215Eastbound', '912303Southbound', '912303Northbound', '912632Eastbound', '913391Eastbound', '913391Westbound', '913527Southbound', '913540Eastbound', '913622Eastbound', '913622Westbound', '913763Eastbound', '913763Westbound', '913781Eastbound', '913781Westbound', '914117Westbound', '914117Eastbound', '914125Westbound', '914125Eastbound', '914289Southbound', '914289Northbound', '914399Southbound', '914399Northbound', '914694Southbound', '914694Northbound', '914718Southbound', '914718Northbound', '914763Eastbound', '914763Westbound', '1137991Southbound', '1137991Northbound', '1138007Southbound', '1138007Northbound', '1138090Eastbound', '1138380Eastbound', '1138380Westbound', '1138493Southbound', '1138502Northbound', '1138502Southbound', '1138593Southbound', '1138593Northbound', '1138598Southbound', '1138667Southbound', '1138667Northbound', '1138957Westbound', '1139004Southbound', '1139004Northbound', '1139314Westbound', '1139314Eastbound', '1139396Northbound', '1139396Southbound', '1139829Westbound', '1139829Eastbound', '1139958Eastbound', '1139958Westbound', '1140112Northbound', '1140286Eastbound', '1140286Westbound', '1140728Westbound', '1140765Eastbound', '1140765Westbound', '1140818Westbound', '1140925Westbound', '1141145Southbound', '1141145Northbound', '1141568Eastbound', '1141568Westbound', '1141613Westbound', '1141613Eastbound', '1141687Northbound', '1141687Southbound', '1141880Southbound', '1141880Northbound', '1142468Westbound', '1142568Northbound', '1142568Southbound', '1142579Northbound', '1142637Eastbound', '1142637Westbound', '1142735Northbound', '1142735Southbound', '1143631Westbound', '1144176Northbound', '1144305Westbound', '1144305Eastbound', '1144643Northbound', '1144744Southbound', '1144744Northbound', '1145908Eastbound', '1146764Southbound', '1146875Southbound', '1146875Northbound', '1147095Southbound', '1147187Southbound', '2016206direction2', '2016206direction1', '2115566Southbound', '2115566Northbound', '2219306Eastbound', '2219306Westbound', '2360241Westbound', '2360241Eastbound', '2426202Westbound', '2426202Eastbound', '2426527Eastbound', '2426527Westbound', '2642950Eastbound', '2652855Eastbound', '2652855Westbound', '2689015Eastbound', '2689015Westbound', '2820858Northbound', '2820858Southbound', '2842544Southbound', '2842544Northbound', '2884115Westbound', '2884115Eastbound', '2904844Eastbound', '2904844Westbound', '2944669Eastbound', '2944671Eastbound', '2962232Westbound', '2962232Eastbound', '3011299Northbound', '3011299Southbound', '3040888Southbound', '3040888Northbound', '3049233Westbound', '3049233Eastbound', '3086139Northbound', '3093392Northbound', '3093392Southbound', '3102388direction2', '3102388direction1', '3111652Eastbound', '3111652Westbound', '3130453Southbound', '3232771Eastbound', '3232771Westbound', '3232775Southbound', '3277834Southbound', '3277834Northbound', '3299803Westbound', '3299803Eastbound', '3310436Westbound', '3310436Eastbound', '3369575Eastbound', '3379932Northbound', '3379932Southbound', '3503403Eastbound', '3521743Westbound', '3521743Eastbound', '3544345Northbound', '3544345Southbound', '3569253Northbound', '3569253Southbound', '3633189direction1', '3633189direction2', '3633499Southbound', '3734666Eastbound', '3735315Northbound', '4153070Eastbound', '4153070Westbound', '4341885Westbound', '4341885Eastbound', '4417441Northbound', '4417441Southbound', '4435732Southbound', '4435732Northbound', '4444972Northbound', '4444972Southbound', '4889327Westbound', '4889327Eastbound', '4890134Northbound', '4890134Southbound', '5000702Northbound', '5070435Eastbound', '5070435Westbound', '5145171Westbound', '5145171Eastbound', '5151780Southbound', '5151845Northbound', '5151845Southbound', '5158855direction1', '5158855direction2', '5266163Northbound', '5266163Southbound', '5329979Eastbound', '5329979Westbound', '5507892Westbound', '5507892Eastbound', '5527586Westbound', '5527586Eastbound', '5527804Southbound', '5527804Northbound', '5538257Westbound', '5538257Eastbound', '5538289Eastbound', '5538289Westbound', '5543911Westbound', '5543911Eastbound', '5588301Westbound', '5588301Eastbound', '5611780Westbound', '5611780Eastbound', '5611784Eastbound', '5611784Westbound', '5704646Eastbound', '5704646Westbound', '5729516Westbound', '5729516Eastbound', '5946489Southbound', '5946489Northbound', '5947397Eastbound', '5947397Westbound', '5947504Northbound', '5947504Southbound', '6001990Westbound', '6001990Eastbound', '6027215Eastbound', '6027215Westbound', '6058135Southbound', '6058135Northbound', '6058169Eastbound', '6058169Westbound', '6058203Westbound', '6058203Eastbound', '6168227Northbound', '6168227Southbound', '6282914Westbound', '6282914Eastbound', '6294611Westbound', '6294611Eastbound', '6303043Southbound', '6427700Northbound', '6427700Southbound', '7017623Westbound', '7017623Eastbound', '7062876Northbound', '7103299Eastbound', '7103299Westbound', '7131245Westbound', '7131245Eastbound', '7131295Eastbound', '7131295Westbound', '7283575Eastbound', '7283575Westbound', '7369059Eastbound', '7369059Westbound', '7472046direction2', '7472046direction1', '7553361Northbound', '7571674Northbound', '7571674Southbound', '7576072Northbound', '7576072Southbound', '7636004Northbound', '7666469Westbound', '7666469Eastbound', '7705680Westbound', '7705680Eastbound', '7730110Westbound', '7930734Eastbound', '7950268Southbound', '7950268Northbound', '7974546direction1', '7974546direction2', '7986376Westbound', '8005255Westbound', '8006294Westbound', '8006408Northbound', '8067838Westbound', '8067838Eastbound', '8106488Westbound', '8106488Eastbound', '8115492Eastbound', '8115492Westbound', '8133582Southbound', '8133582Northbound', '8140484Southbound', '8140484Northbound', '8211760Eastbound', '8237165Southbound', '8237165Northbound', '8237180Westbound', '8237180Eastbound', '8237905Southbound', '8237905Northbound', '8292536Eastbound', '8292536Westbound', '8312979Northbound', '8312979Southbound', '8407054Westbound', '8407054Eastbound', '8408357Eastbound', '8408357Westbound', '8571102Southbound', '8571256Westbound', '8594569Eastbound', '8594569Westbound', '8677015Eastbound', '8677015Westbound', '8677670Westbound', '8677670Eastbound', '8680820Westbound', '8680820Eastbound', '8740697Northbound', '8740697Southbound', '8741238Westbound', '8741238Eastbound', '9011734Northbound', '9038444Westbound', '9038444Eastbound', '9110268Southbound', '9110268Northbound', '9171408Eastbound', '9171408Westbound', '9212485Southbound', '9234465Northbound', '9234465Southbound', '9278643Eastbound', '9278643Westbound', '9344632Westbound', '9344632Eastbound', '9517317Eastbound', '9517317Westbound', '9544445Northbound', '9780433Northbound', '9780433Southbound', '9780443Westbound', '9780443Eastbound', '9796561Northbound', '9796562Westbound', '9796565Southbound', '9796565Northbound', '9848198Southbound', '9848198Northbound', '9848452Southbound', '9848452Northbound', '9963370Eastbound', '9963370Westbound', '10155403Westbound', '10155403Eastbound', '10305816Southbound', '10305816Northbound', '10340744Westbound', '10340744Eastbound', '10363904Westbound', '10363904Eastbound', '10364555Westbound', '10364555Eastbound', '10379151Westbound', '10379151Eastbound', '10527858Northbound', '10527858Southbound', '10536977Westbound', '10538196Northbound', '10538196Southbound', '10630383Eastbound', '10630383Westbound', '10630411Westbound', '10630411Eastbound', '10986292Westbound', '10986292Eastbound', '11110232Westbound', '11110232Eastbound', '11415001Westbound', '11541616Eastbound', '11541616Westbound', '12218231Northbound', '12218231Southbound', '12220829Southbound', '12220829Northbound', '12334582Westbound', '12601203Northbound', '12601203Southbound', '12711797Southbound', '12711797Northbound', '13226500Westbound', '13226500Eastbound', '13410202Northbound', '13410202Southbound', '13969322Eastbound', '13969352Eastbound', '13969352Westbound', '13969361Westbound', '13969361Eastbound', '13973585Westbound', '13973585Eastbound', '13973586Eastbound', '13973586Westbound', '13973772Eastbound', '13973772Westbound', '13977463Eastbound', '13977463Westbound', '13990696Northbound', '13990696Southbound', '14013133Northbound', '14013894Westbound', '14013895Westbound', '14014592Southbound', '14015325Northbound', '14015325Southbound', '14015723Eastbound', '14017070Northbound', '14017071Northbound', '14017163Westbound', '14017164Westbound', '14018525Southbound', '14018766Southbound', '14018795Northbound', '14018930Northbound', '14019121Northbound', '14019148Northbound', '14019400Westbound', '14019484Southbound', '14019485Southbound', '14019896Southbound', '14019897Northbound', '14019897Southbound', '14019916Southbound', '14019919Southbound', '14020328Eastbound', '14020329Eastbound', '14020330Eastbound', '14021133Southbound', '14021133Northbound', '14021616Northbound', '14021616Southbound', '14022418Northbound', '14022464Eastbound', '14022601Northbound', '14023098Northbound', '14023466Northbound', '14024035Eastbound', '14024035Westbound', '14024740Southbound', '14024741Southbound', '14024742Southbound', '14024754Northbound', '14035987Southbound', '14036311Northbound', '14036312Northbound', '14036358Southbound', '14036359Southbound', '14036381Southbound', '14036826Eastbound', '14037115Northbound', '14037147Southbound', '14037290Southbound', '14037291Southbound', '14037328Northbound', '14037463Northbound', '14037463Southbound', '14047406Northbound', '14047406Southbound', '14050993Westbound', '14050993Eastbound', '14066817Eastbound', '14066817Westbound', '14069009Southbound', '14069009Northbound', '14073984Westbound', '14074001Northbound', '14074004Northbound', '14074007Northbound', '14114197Northbound', '14114197Southbound', '14121120Eastbound', '14121120Westbound', '14171719Westbound', '14171719Eastbound', '14173444Eastbound', '14173444Westbound', '14177700Westbound', '14177700Eastbound', '14183985Westbound', '14183985Eastbound', '14191390Northbound', '14191390Southbound', '14203869Southbound', '14203869Northbound', '14228405Westbound', '14230240Southbound', '14230240Northbound', '14233034Southbound', '14233034Northbound', '14236556Southbound', '14236556Northbound', '14249108direction2', '14249108direction1', '14254066Westbound', '14255342Eastbound', '14255342Westbound', '14311158Southbound', '14311158Northbound', '14600817Westbound', '14600817Eastbound', '14606932Northbound', '14606932Southbound', '14611729Westbound', '14611729Eastbound', '14628841Westbound', '14628841Eastbound', '14629084Southbound', '14629084Northbound', '14630158Westbound', '14630158Eastbound', '14639926Southbound', '14639926Northbound', '14659252Eastbound', '14659252Westbound', '14662488Eastbound', '14662909Southbound', '14662909Northbound', '14668361Westbound', '14669325direction1', '14669325direction2', '14672378Westbound', '14672378Eastbound', '14673430Southbound', '14673456Eastbound', '14673456Westbound', '14673767Eastbound', '14674623Eastbound', '14674623Westbound', '14677074Westbound', '14677074Eastbound', '14677910Southbound', '14677910Northbound', '14677918Northbound', '14677918Southbound', '20006155Eastbound', '20030277Northbound', '20030277Southbound', '20033071Northbound', '20033071Southbound', '20034718Eastbound', '20035198Southbound', '20036754Northbound', '20036754Southbound', '20037190Southbound', '20037489Westbound', '20037489Eastbound', '20037490Northbound', '20037490Southbound', '20038945Eastbound', '20040494Eastbound', '20040494Westbound', '20040834Eastbound', '20040834Westbound', '20041388Northbound', '20041388Southbound', '20041510Northbound', '20041510Southbound', '20041963Southbound', '20042246Westbound', '20042247Westbound', '20042465Southbound', '20042466Southbound', '20042816Eastbound', '20042817Eastbound', '20042817Westbound', '20044362Eastbound', '20044362Westbound', '20045555Northbound', '20045555Southbound', '20045672Eastbound', '20045672Westbound', '20048547Southbound', '20048606Northbound', '20048607Northbound', '20050010Southbound', '20050010Northbound', '20050024Southbound', '20050024Northbound', '20050211Westbound', '20050211Eastbound', '20050341Westbound', '20050341Eastbound', '20050415Eastbound', '20050415Westbound', '20050440Eastbound', '20050440Westbound', '20050662Westbound', '20050662Eastbound', '20050709Westbound', '20050709Eastbound', '20050765Westbound', '20050765Eastbound', '20050919Westbound', '20050919Eastbound', '20051094Westbound', '20051094Eastbound', '20051145Eastbound', '20051145Westbound', '20051177Southbound', '20051177Northbound', '20051185Eastbound', '20051185Westbound', '20051236Westbound', '20051236Eastbound', '20051266Eastbound', '20051266Westbound', '20051294Southbound', '20051294Northbound', '20051413Westbound', '20051413Eastbound', '20051762Eastbound', '20051762Westbound', '20051763Eastbound', '20051763Westbound', '20052326Southbound', '20052326Northbound', '20052345Eastbound', '20052345Westbound', '20052378Westbound', '20052378Eastbound', '20052397Northbound', '20052397Southbound', '20052470Eastbound', '20052470Westbound', '20052579Southbound', '20052579Northbound', '20052582Southbound', '20052582Northbound', '20053176Southbound', '20053176Northbound', '20053315Northbound', '20053315Southbound', '20053465Westbound', '20053465Eastbound', '20054641Northbound', '20054681Westbound', '20054934Eastbound', '20054934Westbound', '20055124Westbound', '20056558Eastbound', '20056559Eastbound', '20057496Westbound', '20057496Eastbound', '20061158direction1', '20061158direction2', '20073256Westbound', '20078758Westbound', '20078758Eastbound', '20079423Westbound', '20079423Eastbound', '20079428Southbound', '20079428Northbound', '20079457Eastbound', '20079457Westbound', '20079460Southbound', '20079460Northbound', '20079773Westbound', '20089450Eastbound', '20089450Westbound', '20089875Southbound', '20091981Southbound', '20110526Eastbound', '20110526Westbound', '20110653Northbound', '20112057Eastbound', '20112521Eastbound', '20112521Westbound', '20117925direction2', '20117925direction1', '20118211Westbound', '20118211Eastbound', '20119967Westbound', '20119967Eastbound', '20121839Northbound', '20121839Southbound', '20140868Northbound', '20140868Southbound', '20141001Westbound', '20141001Eastbound', '20154673direction1', '20154673direction2', '20165766Eastbound', '20165766Westbound', '20166998Southbound', '20166998Northbound', '20167490Eastbound', '20167490Westbound', '20233965Eastbound', '20233965Westbound', '20236174Northbound', '20236174Southbound', '20236501Eastbound', '20236501Westbound', '20236547Eastbound', '20236547Westbound', '20236633Westbound', '20237104Northbound', '20237104Southbound', '20353716Westbound', '20353716Eastbound', '20356719Westbound', '20356719Eastbound', '20357392Eastbound', '20357392Westbound', '20359213Northbound', '20359213Southbound', '30000290Westbound', '30000290Eastbound', '30000707Westbound', '30001654Westbound', '30001654Eastbound', '30004040Southbound', '30004040Northbound', '30004309Westbound', '30004309Eastbound', '30004444Eastbound', '30004444Westbound', '30004459Northbound', '30004459Southbound', '30004687Westbound', '30004687Eastbound', '30006678Northbound', '30006678Southbound', '30006804Eastbound', '30006804Westbound', '30007501Southbound', '30007501Northbound', '30008722Southbound', '30008722Northbound', '30008844Eastbound', '30008844Westbound', '30008913Northbound', '30008913Southbound', '30009333Eastbound', '30009333Westbound', '30009547Westbound', '30009547Eastbound', '30010586Westbound', '30010862Westbound', '30010862Eastbound', '30011644Southbound', '30011645Southbound', '30011719Eastbound', '30011719Westbound', '30011910Eastbound', '30011910Westbound', '30011913Westbound', '30011913Eastbound', '30012730Northbound', '30012730Southbound', '30014222Westbound', '30014222Eastbound', '30015307Eastbound', '30015307Westbound', '30015799Westbound', '30015897Westbound', '30015897Eastbound', '30015905Westbound', '30015905Eastbound', '30017159Southbound', '30017205Northbound', '30017230Southbound', '30017340Northbound', '30017346Northbound', '30017349Southbound', '30017387Southbound', '30017394Northbound', '30017427Eastbound', '30017439Eastbound', '30017443Northbound', '30017460Eastbound', '30017464Northbound', '30017477Northbound', '30017480Northbound', '30017514Southbound', '30017525Eastbound', '30017529Westbound', '30017533Westbound', '30017549Southbound', '30017572Northbound', '30018236Northbound', '30018237Northbound', '30019151Northbound', '30019151Southbound', '30021273Westbound', '30021273Eastbound', '30021626Eastbound', '30021626Westbound', '30022271Westbound', '30024490Westbound', '30024490Eastbound', '30024658Northbound', '30024658Southbound', '30024691Westbound', '30024691Eastbound', '30024942Southbound', '30024942Northbound', '30024996Eastbound', '30024996Westbound', '30025002Eastbound', '30025002Westbound', '30025003Eastbound', '30025003Westbound', '30025108Eastbound', '30025108Westbound', '30025326Eastbound', '30027630Westbound', '30028870Southbound', '30028870Northbound', '30028910Eastbound', '30028910Westbound', '30029323Westbound', '30029323Eastbound', '30029530Northbound', '30029530Southbound', '30029531Northbound', '30029531Southbound', '30029779Westbound', '30029779Eastbound', '30029934Northbound', '30029934Southbound', '30031707Westbound', '30031707Eastbound', '30032431Northbound', '30032431Southbound', '30032779Northbound', '30032779Southbound', '30033050Eastbound', '30033050Westbound', '30033764Westbound', '30033764Eastbound', '30033812Northbound', '30033812Southbound', '30033860Westbound', '30033860Eastbound', '30033965Westbound', '30033965Eastbound', '30035982Eastbound', '30035982Westbound', '30037678Southbound', '30037678Northbound', '30037679Southbound', '30037754Eastbound', '30037754Westbound', '30038247Westbound', '30038247Eastbound', '30038248Westbound', '30038248Eastbound', '30038680Eastbound', '30038866Eastbound', '30038866Westbound', '30039859Eastbound', '30039859Westbound', '30040102Southbound', '30040102Northbound', '30042065Southbound', '30042065Northbound', '30042066Southbound', '30042066Northbound', '30042792Eastbound', '30042792Westbound', '30043039Northbound', '30043039Southbound', '30043635Southbound', '30044613Westbound', '30044613Eastbound', '30052797Westbound', '30052797Eastbound', '30053451Westbound', '30053451Eastbound', '30054916Southbound', '30054916Northbound', '30055125Northbound', '30055125Southbound', '30055255Eastbound', '30055255Westbound', '30055642Westbound', '30055642Eastbound', '30057384Northbound', '30057384Southbound', '30058394Westbound', '30058394Eastbound', '30058460Westbound', '30058460Eastbound', '30058506Westbound', '30058562Eastbound', '30058562Westbound', '30058574Westbound', '30058574Eastbound', '30058710Eastbound', '30058710Westbound', '30058958Northbound', '30058958Southbound', '30059099Eastbound', '30059099Westbound', '30059109Westbound', '30059109Eastbound', '30059136Westbound', '30059136Eastbound', '30059388Northbound', '30059388Southbound', '30059461Westbound', '30059461Eastbound', '30059474Eastbound', '30059474Westbound', '30059577Northbound', '30059577Southbound', '30059699Westbound', '30059699Eastbound', '30060565Westbound', '30060565Eastbound', '30061092Eastbound', '30061092Westbound', '30062055Westbound', '30062055Eastbound', '30062435Eastbound', '30062435Westbound', '30062555Southbound', '30062555Northbound', '30063113Westbound', '30063113Eastbound', '30063279Eastbound', '30063279Westbound', '30063412Eastbound', '30063412Westbound', '30063419Northbound', '30063419Southbound', '30063609Southbound', '30063609Northbound', '30063637Eastbound', '30063637Westbound', '30063699Southbound', '30063699Northbound', '30065371Northbound', '30065371Southbound', '30065506Southbound', '30065506Northbound', '30066200Westbound', '30066200Eastbound', '30066294Eastbound', '30066294Westbound', '30067566Southbound', '30067566Northbound', '30067806Northbound', '30067806Southbound', '30068222Northbound', '30068222Southbound', '30068885Westbound', '30068885Eastbound', '30069258Southbound', '30069259Southbound', '30069997Eastbound', '30069998Eastbound', '30070188Southbound', '30070188Northbound', '30070190Southbound', '30070190Northbound', '30070194Westbound', '30070194Eastbound', '30070320Eastbound', '30070324Southbound', '30070324Northbound', '30070326Southbound', '30070326Northbound', '30070327Northbound', '30070327Southbound', '30070849Westbound', '30070849Eastbound', '30070850Westbound', '30070850Eastbound', '30071018Westbound', '30071018Eastbound', '30071133Eastbound', '30071133Westbound', '30071175Westbound', '30071175Eastbound', '30071707Southbound', '30071707Northbound', '30071840Westbound', '30072381Southbound', '30072743Westbound', '30072743Eastbound', '30072988Eastbound', '30072988Westbound', '30072992Eastbound', '30072992Westbound', '30073588Southbound', '30073588Northbound', '30073886Westbound', '30073886Eastbound', '30073887Westbound', '30073887Eastbound', '30074274Southbound', '30074308Westbound', '30074308Eastbound', '30074321Northbound', '30074321Southbound', '30074465Northbound', '30074465Southbound', '30074468Eastbound', '30074482Northbound', '30074482Southbound', '30074537Southbound', '30074537Northbound', '30074746Southbound', '30074746Northbound', '30075114Eastbound', '30075122Southbound', '30075122Northbound', '30075123Westbound', '30075123Eastbound', '30075157Eastbound', '30075157Westbound', '30075870Eastbound', '30075870Westbound', '30075873Northbound', '30075873Southbound', '30075977Southbound', '30075977Northbound', '30076007Southbound', '30076007Northbound', '30076077Eastbound', '30076077Westbound', '30076090Eastbound', '30076090Westbound', '30076390Westbound', '30076390Eastbound', '30076632Eastbound', '30076632Westbound', '30076661Southbound', '30076661Northbound', '30076793Eastbound', '30076793Westbound', '30076866Southbound', '30076866Northbound', '30078462Eastbound', '30078462Westbound', '30079632Westbound', '30079632Eastbound', '30079633Northbound', '30079633Southbound', '30079637Eastbound', '30079637Westbound', '30079845Southbound', '30079845Northbound', '30079846Southbound', '30079846Northbound', '30081736Eastbound', '30081736Westbound', '30081780Eastbound', '30081780Westbound', '30081781Eastbound', '30081781Westbound', '30081792Southbound', '30081792Northbound', '30081793Southbound', '30081793Northbound', '30082498Eastbound', '30082498Westbound', '30082539Westbound', '30082539Eastbound', '30082540Eastbound', '30082540Westbound', '30083198Southbound', '30083198Northbound', '30084059Westbound', '30084059Eastbound', '30087212Westbound', '30087212Eastbound', '30088482Northbound', '30088483Northbound', '30088484Westbound', '30088484Eastbound', '30088494Northbound', '30088549Southbound', '30088549Northbound', '30088577Northbound', '30089216Northbound', '30089216Southbound', '30089353Westbound', '30089353Eastbound', '30089354Westbound', '30089354Eastbound', '30089453Southbound', '30089453Northbound', '30089530Northbound', '30089530Southbound', '30089847Southbound', '30089847Northbound', '30089919Westbound', '30089919Eastbound', '30089920Westbound', '30089920Eastbound', '30090018Southbound', '30090018Northbound', '30090129Westbound', '30090129Eastbound', '30091559Eastbound', '30091559Westbound', '30091561Eastbound', '30091561Westbound', '30091564Eastbound', '30091564Westbound', '30091565Eastbound', '30091565Westbound', '30091571Southbound', '30091571Northbound', '30091572Southbound', '30091572Northbound', '30091580Eastbound', '30091580Westbound', '30091583Eastbound', '30091583Westbound', '30091584Southbound', '30091584Northbound', '30091585Northbound', '30091585Southbound', '30091836Eastbound', '30092268Southbound', '30092268Northbound', '30093128Northbound', '30093128Southbound', '30093129Westbound', '30093129Eastbound', '30093994Southbound', '30093994Northbound', '30096837Eastbound', '30096837Westbound', '30097021Eastbound', '30097021Westbound', '30097298Westbound', '30097298Eastbound', '30097300Southbound', '30097300Northbound', '30097452Southbound', '30097452Northbound', '30097685Westbound', '30097685Eastbound', '30097686Westbound', '30097686Eastbound', '30097688Northbound', '30097688Southbound', '30098400Northbound', '30098400Southbound', '30098406Northbound', '30098406Southbound', '30098727Westbound', '30098727Eastbound', '30098740Northbound', '30098740Southbound', '30100055Eastbound', '30100056Eastbound', '30100522Eastbound', '30100522Westbound', '30101132Westbound', '30101132Eastbound', '30102141Northbound', '30102141Southbound', '30102180Northbound', '30102180Southbound', '30102204Westbound', '30102204Eastbound', '30102258Southbound', '30102258Northbound', '30102259Westbound', '30102259Eastbound', '30102275Eastbound', '30102275Westbound', '30102361Eastbound', '30102361Westbound', '30102651Eastbound', '30102651Westbound', '30102863Eastbound', '30102863Westbound', '30103197Southbound', '30103197Northbound', '30103400Southbound', '30103400Northbound', '30103503Westbound', '30103503Eastbound', '30103562Eastbound', '30103562Westbound', '30103712Northbound', '30103712Southbound', '30103885Eastbound', '30103885Westbound', '30103901Westbound', '30103901Eastbound', '30104099Westbound', '30104099Eastbound', '30104101Southbound', '30104101Northbound', '30104488Northbound', '30104488Southbound', '30104925Southbound', '30104925Northbound', '30104937Westbound', '30104937Eastbound', '30104940Westbound', '30104940Eastbound', '30104942Westbound', '30104942Eastbound', '30104943Westbound', '30104943Eastbound', '30104944Southbound', '30104944Northbound', '30104945Southbound', '30104945Northbound', '30104946Southbound', '30104946Northbound', '30104952Southbound', '30104952Northbound', '30104953Southbound', '30104953Northbound', '30104959Westbound', '30104959Eastbound', '30104960Westbound', '30104960Eastbound', '30104961Westbound', '30104961Eastbound', '30105376Southbound', '30105376Northbound', '30105377Northbound', '30105377Southbound', '30105379Westbound', '30105379Eastbound', '30105380Eastbound', '30105380Westbound', '30106270Westbound', '30106270Eastbound', '30106273Westbound', '30106273Eastbound', '30106274Southbound', '30106274Northbound', '30106377Westbound', '30106377Eastbound', '30106477Eastbound', '30106477Westbound', '30106479Eastbound', '30106479Westbound', '30107721Westbound', '30107721Eastbound', '30107749Northbound', '30107749Southbound', '30107853Northbound', '30107853Southbound', '30108195Westbound', '30108195Eastbound', '30108217Northbound', '30109087Northbound', '30109087Southbound', '30111087Northbound', '30111093Westbound', '30111242Eastbound', '30111242Westbound', '30111247Southbound', '30111247Northbound', '30111306Eastbound', '30111306Westbound', '30111735Westbound', '30111735Eastbound', '30112241Westbound', '30112241Eastbound', '30112243Southbound', '30112243Northbound', '30112245Westbound', '30112245Eastbound', '30112874Eastbound', '30112874Westbound', '30112962Eastbound', '30112962Westbound', '30112964Eastbound', '30112964Westbound', '30113192Westbound', '30113192Eastbound', '30113240Southbound', '30113240Northbound', '30113241Southbound', '30113241Northbound', '30113243Westbound', '30113243Eastbound', '30113437Eastbound', '30113437Westbound', '30113475Eastbound', '30113475Westbound', '30113537Eastbound', '30113638Northbound', '30113638Southbound', '30113642Eastbound', '30113642Westbound', '30113675Southbound', '30113675Northbound', '30113676Southbound', '30113676Northbound', '30113678Northbound', '30113678Southbound']\n"
     ]
    }
   ],
   "source": [
    "# Pull data from Database\n",
    "count = len(unmatched_gid)\n",
    "           \n",
    "unmatched_unmatched_gid = []\n",
    "unmatched_matched_gid = []\n",
    "\n",
    "for i in range(0, count, 500):\n",
    "    get_centreline_sql = '''SELECT 'Feature' as type,  json_build_object('geo_id', geo_id, 'direction', direction) as properties, ST_AsGeoJson(dir_geom)::json as geometry \n",
    "    FROM gis_shared_streets.centreline_both_dir WHERE FCODE_DESC IN ('Collector','Collector Ramp',\n",
    "    'Local','Major Arterial','Major Arterial Ramp','Minor Arterial',\n",
    "    'Minor Arterial Ramp','Pending') AND geo_id||direction IN {} ORDER BY geo_id LIMIT {} OFFSET {}'''.format(tuple(unmatched_gid), 500, i)\n",
    "\n",
    "    with con:\n",
    "        with con.cursor(cursor_factory=RealDictCursor) as cur:\n",
    "            cur.execute(get_centreline_sql)\n",
    "            results = cur.fetchall()\n",
    "            final_json = json.dumps({\"type\": \"FeatureCollection\",\n",
    "                                    \"features\": results})\n",
    "            \n",
    "# Send data to SharedStreets API    \n",
    "    base_url = \"https://api.sharedstreets.io/v0.1.0/match/geoms\"\n",
    "    apiKey = \"bdd23fa1-7ac5-4158-b354-22ec946bb575\"\n",
    "    params = {'ignoreDirection': 'false',\n",
    "              'bearingTolerance' : 45 ,\n",
    "              'searchRadius' : 60,\n",
    "              'auth' : apiKey,\n",
    "              'tileHierarchy': 6,\n",
    "              'dataSource': 'osm/planet-181029',\n",
    "              'lengthTolerance' : 0.3,\n",
    "              'snapTopology': 'true'\n",
    "             }\n",
    "    headers= {\"Content-type\": \"application/json; charset=UTF-8\"}\n",
    "    \n",
    "    r = requests.post(base_url, params = params, headers = headers, json = {\"type\": \"FeatureCollection\", \"features\": results})\n",
    "    \n",
    "    returned_json = r.json()\n",
    "                      \n",
    "   # feature = returned_json.get('matched').get('features')[0]\n",
    "    unmatched = returned_json.get('unmatched').get('features')\n",
    "    for feature in unmatched:\n",
    "        unmatched_id = feature['properties']['geo_id']\n",
    "        unmatched_direction = feature['properties']['direction']\n",
    "        unmatched_unmatched_gid.append(str(int(unmatched_id)) + unmatched_direction)\n",
    "        \n",
    "        \n",
    "    \n",
    "# Send row to database\n",
    "    features = returned_json.get('matched').get('features')\n",
    "    if  feature['properties']['referenceId'] is None:\n",
    "            null_matched.append(str(int(feature['properties']['geo_id']))+feature['properties']['direction'])\n",
    "            continue\n",
    "            \n",
    "    for feature in features:\n",
    "        matched_id = feature['properties']['originalFeature']['properties']['geo_id']\n",
    "        matched_direction = feature['properties']['originalFeature']['properties']['direction']\n",
    "        unmatched_matched_gid.append(str(int(matched_id)) + matched_direction)\n",
    "    \n",
    "    rows = []\n",
    "    for feature in features:\n",
    "           \n",
    "        if  feature['properties']['section'][0] > feature['properties']['section'][1]:\n",
    "            print(\"Error with geo_id {}\".format(feature['properties']['originalFeature']['properties']['geo_id']))\n",
    "            print(feature)\n",
    "            feature['properties']['section'][0] = 0\n",
    "            feature['properties']['section'][1] = 0\n",
    "            \n",
    "        row = (feature['properties']['referenceId'], \n",
    "                   feature['properties']['fromIntersectionId'],\n",
    "                   feature['properties']['toIntersectionId'],\n",
    "                   feature['properties']['roadClass'], \n",
    "                   feature['properties']['direction'],\n",
    "                   feature['properties']['referenceLength'],\n",
    "                   feature['properties']['side'], \n",
    "                   feature['properties'].get('score', None),\n",
    "                   '[' + str(feature['properties']['section'][0]) +', '+ str(feature['properties']['section'][1]) +')', \n",
    "                   'SRID=4326;LineString('+','.join(' '.join(str(x) for x in tup) for tup in feature['geometry']['coordinates'])+')', \n",
    "                   feature['properties']['originalFeature']['properties']['geo_id'],\n",
    "                   feature['properties']['originalFeature']['properties']['direction'])\n",
    "\n",
    "        rows.append(row)\n",
    "\n",
    "        sql=' INSERT INTO gis_shared_streets.unmatched_centreline_both_dir (reference_id, from_intersection, to_intersection, road_class, direction, reference_length, side,score, section, geometry, geo_id, direction_centreline) VALUES %s'\n",
    "\n",
    "   # with con:\n",
    "        with con.cursor() as cur:\n",
    "            execute_values(cur, \n",
    "                           sql, \n",
    "                           rows) \n",
    "            \n",
    "# Print unmatched features                \n",
    "print(unmatched_unmatched_gid)"
   ]
  },
  {
   "cell_type": "code",
   "execution_count": 612,
   "metadata": {},
   "outputs": [
    {
     "data": {
      "text/plain": [
       "1642"
      ]
     },
     "execution_count": 612,
     "metadata": {},
     "output_type": "execute_result"
    }
   ],
   "source": [
    "len(unmatched_unmatched_gid)"
   ]
  },
  {
   "cell_type": "code",
   "execution_count": 604,
   "metadata": {},
   "outputs": [
    {
     "data": {
      "text/plain": [
       "1689"
      ]
     },
     "execution_count": 604,
     "metadata": {},
     "output_type": "execute_result"
    }
   ],
   "source": [
    "len(unmatched_gid)"
   ]
  },
  {
   "cell_type": "code",
   "execution_count": 621,
   "metadata": {},
   "outputs": [
    {
     "data": {
      "text/plain": [
       "{'10010630Eastbound',\n",
       " '104709Eastbound',\n",
       " '105364Northbound',\n",
       " '105364Southbound',\n",
       " '112618Eastbound',\n",
       " '112618Westbound',\n",
       " '1141005Eastbound',\n",
       " '1141005Westbound',\n",
       " '1141112Northbound',\n",
       " '1141112Southbound',\n",
       " '1141210Northbound',\n",
       " '12335507Westbound',\n",
       " '14037319Eastbound',\n",
       " '14046456Eastbound',\n",
       " '14046456Westbound',\n",
       " '14172269Northbound',\n",
       " '14184507Eastbound',\n",
       " '14184507Westbound',\n",
       " '14234481Eastbound',\n",
       " '14234481Westbound',\n",
       " '20041963Northbound',\n",
       " '20042497Northbound',\n",
       " '30014021Eastbound',\n",
       " '30014021Westbound',\n",
       " '30064610Northbound',\n",
       " '30090510Westbound',\n",
       " '30104621Eastbound',\n",
       " '30104621Westbound',\n",
       " '3086139Southbound',\n",
       " '3369575Westbound',\n",
       " '3503403Westbound',\n",
       " '3633499Northbound',\n",
       " '3734666Westbound',\n",
       " '3735315Southbound',\n",
       " '3905080Eastbound',\n",
       " '3905080Westbound',\n",
       " '438775Northbound',\n",
       " '439745Southbound',\n",
       " '6765648Eastbound',\n",
       " '6765648Westbound',\n",
       " '7254144Northbound',\n",
       " '7254144Southbound',\n",
       " '7950452Eastbound',\n",
       " '7950452Westbound',\n",
       " '911733Eastbound',\n",
       " '911733Westbound',\n",
       " '913623Westbound'}"
      ]
     },
     "execution_count": 621,
     "metadata": {},
     "output_type": "execute_result"
    }
   ],
   "source": [
    "set(unmatched_matched_gid)"
   ]
  },
  {
   "cell_type": "code",
   "execution_count": null,
   "metadata": {},
   "outputs": [],
   "source": [
    "## getting kevin the link that got matched second time"
   ]
  },
  {
   "cell_type": "code",
   "execution_count": 584,
   "metadata": {},
   "outputs": [
    {
     "name": "stdout",
     "output_type": "stream",
     "text": [
      "[64036, 64075, 64106, 64133, 64139, 64205, 64275, 64285, 64299, 64306, 64328, 64340, 64342, 64624, 64645, 64747, 64769, 64788, 64953, 65172, 65241, 65248, 65335, 65388, 65493, 65640, 65819, 65953, 65957, 65967, 66172, 66209, 66286, 66327, 66330, 66331, 66633, 66731, 66818, 66860, 66895, 67010, 67060, 67174, 67278, 67279, 67310, 67311, 67329, 67345, 67391, 67576, 67580, 67627, 67645, 67647, 67753, 67782, 67856, 67930, 67969, 68047, 68292, 68487, 68556, 68734, 68796, 68981, 69134, 69216, 69339, 69361, 69397, 69421, 69445, 69446, 69629, 69633, 69673, 69705, 69706, 69864, 69884, 70016, 70046, 70061, 70066, 70079, 70080, 70108, 70133, 70156, 70158, 70161, 70171, 70297, 70324, 70325, 70356, 70374, 70398, 70402, 70441, 70495, 70526, 70629, 70823, 70829, 70931, 70932, 70936, 70984, 71010, 71035, 71038, 71071, 71074, 71077, 71290, 71368, 71486, 71499, 71665, 71684, 71731, 71786, 72097, 72131, 72135, 72144, 72145, 72149, 72152, 72164, 72170, 72171, 72187, 72198, 72200, 72201, 72217, 72265, 72282, 72283, 72317, 72332, 72434, 72440, 72445, 72447, 72450, 72459, 72464, 72503, 72506, 72576, 72601, 72620, 72687, 72691, 72704, 72778, 72910, 73005, 73062, 73091, 73094, 73286, 73418, 73553, 73566, 73603, 73689, 73919, 73930, 74041, 74060, 74129, 74134, 74157, 74180, 74181, 74184, 74190, 74207, 74409, 74425, 74466, 74866, 74891, 75086, 75229, 75241, 75243, 75255, 75310, 75325, 75327, 75408, 75418, 75437, 75505, 75509, 75536, 75537, 75542, 75566, 75657, 75659, 75815, 75903, 75923, 76246, 76262, 76293, 76383, 76385, 76389, 76415, 76462, 76466, 76481, 76489, 76492, 76521, 76524, 76543, 76567, 76570, 76603, 76707, 76726, 76729, 76732, 76841, 76873, 76922, 76933, 76965, 77016, 77021, 77041, 77052, 77096, 77101, 77147, 77320, 77322, 77362, 77374, 77467, 77500, 77571, 77589, 77616, 77645, 77647, 77731, 77759, 77777, 77793, 78223, 78239, 78260, 78323, 78324, 78336, 78349, 78363, 78563, 78615, 78625, 78626, 78647, 78664, 78707, 78709, 78716, 78717, 78719, 78735, 78742, 78748, 78753, 78771, 78775, 78780, 78781, 78926, 78961, 78964, 78970, 78984, 78986, 79032, 79033, 79036, 79065, 79090, 79100, 79103, 79133, 79143, 79145, 79147, 79148, 79150, 79239, 79250, 79277, 79312, 79340, 79373, 79393, 79397, 79424, 79427, 79428, 79434, 79466, 79467, 79471, 79472, 79473, 79475, 79497, 79499, 79501, 79503, 79504, 79507, 79508, 79511, 79514, 79517, 79541, 79545, 79552, 79582, 79585, 79588, 79621, 79623, 79659, 79662, 79700, 79701, 79704, 79727, 79750, 79785, 79786, 79797, 79802, 79808, 79814, 79815, 79825, 79828, 79845, 79848, 79860, 79863, 79889, 79892, 79893, 79900, 79918, 79924, 79932, 79947, 79948, 79952, 79956, 79975, 79978, 79980, 79982, 80040, 80082, 80085, 80088, 80098, 80099, 80100, 80139, 80161, 80162, 80163, 80165, 80168, 80170, 80191, 80192, 80193, 80194, 80206, 80208, 80209, 80227, 80240, 80284, 80291, 80301, 80307, 80318, 80323, 80324, 80328, 80329, 80332, 80334, 80337, 80355, 80357, 80361, 80365, 80366, 80378, 80387, 80393, 80394, 80396, 80400, 80401, 80404, 80416, 80427, 80429, 80444, 80445, 80446, 80461, 80462, 80465, 80466, 80468, 80470, 80472, 80476, 80478, 80481, 80482, 80483, 80499, 80500, 80530, 80539, 80540, 80541, 80542, 80543, 80544, 80546, 80552, 80566, 80568, 80571, 80573, 80578, 80579, 80581, 80583, 80591, 80594, 80603, 80604, 80605, 80618, 80631, 80633, 80638, 80649, 80652, 80655, 80662, 80664, 80666, 80667, 80670, 80672, 80676, 80677, 80728, 80733, 80751, 80753, 80754, 80755, 80761, 80764, 80766, 80769, 80781, 80782, 80787, 80789, 80796, 80804, 80807, 80819, 80821, 80834, 80899, 80904, 80906, 80907, 80922, 80923, 80936, 80944, 80955, 80980, 80981, 80983, 80999, 81001, 81025, 81038, 81040, 81041, 81056, 81057, 81068, 81070, 81072, 81088, 81112, 81128, 81140, 81176, 81178, 81181, 81186, 81225, 81226, 81230, 81241, 81244, 81255, 81268, 81288, 81290, 81367, 81369, 81390, 81398, 81431, 81434, 81436, 81444, 81445, 81447, 81450, 81457, 81464, 81469, 81473, 81499, 81507, 81510, 81541, 81546, 81549, 81573, 81604, 81609, 81620, 81621, 81628, 81647, 81657, 81671, 81701, 81704, 81708, 81712, 81723, 81727, 81728, 81738, 81744, 81747, 81753, 81756, 81762, 81772, 81783, 81805, 81806, 81807, 81824, 81831, 81852, 81857, 81879, 81883, 81886, 81892, 81897, 81917, 81922, 81931, 81937, 81943, 81945, 81947, 81958, 81964, 81988, 81989, 82002, 82022, 82037, 82059, 82065, 82070, 82090, 82095, 82110, 82111, 82118, 82127, 82131, 82151, 82171, 82172, 82176, 82177, 82183, 82185, 82200, 82207, 82219, 82239, 82256, 82280, 82289, 82290, 82292, 82295, 82299, 82304, 82306, 82308, 82312, 82322, 82330, 82333, 82343, 82358, 82359, 82361, 82362, 82364, 82365, 82366, 82367, 82378, 82379, 82383, 82385, 82396, 82433, 82437, 82453, 82455, 82464, 82467, 82478, 82481, 82485, 82488, 82489, 82491, 82492, 82524, 82553, 82557, 82563, 82615, 82616, 82617, 82619, 82639, 82655, 82656, 82659, 82687, 82700, 82723, 82763, 82765, 82771, 82774, 82829, 82836, 82841, 82845, 82858, 82863, 82865, 82866, 82896, 82904, 82936, 82949, 82953, 82982, 83024, 83026, 83027, 83029, 83038, 83044, 83046, 83047, 83053, 83057, 83064, 83068, 83100, 83102, 83105, 83121, 83123, 83125, 83138, 83142, 83149, 83154, 83165, 83181, 83185, 83191, 83206, 83209, 83210, 83219, 83224, 83227, 83230, 83233, 83235, 83242, 83244, 83250, 83254, 83255, 83261, 83264, 83265, 83266, 83281, 83287, 83292, 83293, 83299, 83303, 83304, 83306, 83309, 83316, 83324, 83330, 83337, 83341, 83344, 83346, 83359, 83369, 83370, 83378, 83383, 83384, 83385, 83387, 83389, 83391, 83392, 83400, 83401, 83410, 83411, 83415, 83417, 83424, 83440, 83441, 83460, 83466, 83469, 83478, 83482, 83508, 83513, 83519, 83551, 83581, 83601, 83605, 83611, 83629, 83633, 83635, 83652, 83656, 83684, 83709, 83727, 83728, 83730, 83740, 83747, 83749, 83750, 83813, 83815, 83817, 83835, 83848, 83855, 83858, 83860, 83868, 83884, 83896, 83899, 83901, 83914, 83929, 83937, 83940, 83955, 83956, 83959, 83974, 83975, 83976, 83982, 83986, 83993, 84011, 84041, 84050, 84069, 84072, 84125, 84130, 84143, 84150, 84204, 84206, 84207, 84208, 84219, 84243, 84245, 84258, 84274, 84278, 84279, 84281, 84283, 84287, 84289, 84308, 84309, 84312, 84313, 84324, 84327, 84328, 84331, 84348, 84353, 84354, 84355, 84375, 84409, 84415, 84419, 84438, 84459, 84467, 84469, 84481, 84494, 84502, 84505, 84506, 84508, 84515, 84516, 84527, 84530, 84536, 84557, 84563, 84565, 84569, 84574, 84593, 84595, 84596, 84605, 84607, 84609, 84620, 84627, 84644, 84679, 84699, 84700, 84701, 84707, 84709, 84728, 84729, 84731, 84740, 84756, 84773, 84804, 84805, 84807, 84822, 84825, 84830, 84831, 84862, 84863, 84873, 84876, 84884, 84887, 84890, 84891, 84908, 84914, 84928, 84932, 84938, 84956, 84968, 84974, 84983, 85009, 85022, 85025, 85026, 85027, 85031, 85034, 85046, 85080, 85086, 85100, 85112, 85139, 85147, 85161, 85162, 85164, 85178, 85183, 85192, 85193, 85195, 85201, 85221, 85253, 85277, 85279, 85297, 85342, 85345, 85348, 85350, 85367, 85382, 85408, 85435, 85436, 85449, 85455, 85456, 85475, 85481, 85484, 85485, 85522, 85531, 85535, 85536, 85543, 85575, 85576, 85580, 85610, 85611, 85615, 85626, 85630, 85634, 85636, 85647, 85660, 85661, 85663, 85671, 85694, 85710, 85718, 85732, 85775, 85794, 85812, 85840, 85841, 85852, 85856, 85866, 85867, 85868, 85888, 85894, 85896, 85897, 85898, 85919, 85969, 85971, 85973, 85976, 85978, 86010, 86011, 86012, 86016, 86021, 86023, 86028, 86056, 86090, 86091, 86094, 86096, 86106, 86112, 86128, 86133, 86144, 86145, 86147, 86156, 86163, 86176, 86183, 86187, 86192, 86207, 86224, 86233, 86246, 86258, 86260, 86280, 86299, 86301, 86305, 86308, 86310, 86312, 86317, 86322, 86323, 86337, 86344, 86345, 86348, 86375, 86377, 86378, 86382, 86384, 86407, 86411, 86416, 86419, 86441, 86444, 86445, 86448, 86450, 86452, 86497, 86517, 86533, 86536, 86537, 86591, 86607, 86609, 86618, 86620, 86642, 86646, 86650, 86659, 86660, 86662, 86683, 86686, 86687, 86688, 86714, 86723, 86727, 86728, 86731, 86736, 86772, 86775, 86784, 86802, 86823, 86846, 86859, 86865, 86867, 86925, 86953, 86968, 87006, 87035, 87151, 87159, 87165, 87242, 87247, 87289, 87629, 87648, 87664, 87671, 87698, 87797, 87957, 87989, 88080, 88117, 88144, 88300, 88306, 88331, 88332, 88337, 88367, 88369, 88371, 88394, 88396, 88429, 88453, 88492, 88504, 88512, 88536, 88651, 88915, 88918, 89171, 89228, 89242, 89302, 89303, 89368, 89438, 89461, 89633, 89741, 89858, 89872, 89884, 89982, 90012, 90032, 90050, 90081, 90082, 90170, 90190, 90217, 90245, 90314, 90341, 90367, 90537, 90543, 90592, 90654, 90818, 90846, 90874, 90881, 91076, 91093, 91094, 91166, 91297, 91391, 91433, 91442, 91452, 91492, 91501, 91631, 91676, 91721, 91729, 91748, 91801, 91906, 91972, 91980, 91981, 91982, 91983, 92010, 92022, 92094, 92157, 92174, 92296, 92304, 92305, 92324, 92375, 92673, 92680, 92826, 92850, 92985, 93032, 93033, 93045, 93058, 93080, 93097, 93231, 93238, 93318, 93399, 93521, 93567, 93611, 93748, 93752, 93768, 93773, 93805, 93827, 93860, 93865, 93881, 94221, 94265, 94287, 94308, 94514, 94551, 94560, 94724, 94808, 94809, 94955, 95048, 95178, 95233, 95564, 95613, 95726, 95793, 95903, 95942, 95963, 96014, 96077, 96345, 96412, 96458, 96526, 96564, 96625, 96674, 96760, 96783, 96897, 97024, 97051, 97115, 97164, 97198, 97242, 97265, 97270, 97304, 97314, 97384, 97695, 97713, 97840, 97892, 97939, 98045, 98115, 98119, 98244, 98447, 98469, 98473, 98566, 98662, 98958, 99131, 99154, 99167, 99171, 99208, 99214, 99288, 99303, 99305, 99307, 99308, 99311, 99316, 99327, 99350, 99374, 99377, 99385, 99388, 99389, 99390, 99412, 99413, 99424, 99520, 99544, 99545, 99567, 99573, 99599, 99605, 99608, 99654, 99720, 99733, 99743, 99746, 99756, 99761, 99762, 99787, 99789, 99792, 99818, 99840, 99842, 99912, 99941, 99982, 100024, 100035, 100056, 100057, 100073, 100101, 100116, 100160, 100312, 100353, 100355, 100377, 100417, 100422, 100426, 100427, 100428, 100451, 100455, 100458, 100495, 100511, 100512, 100514, 100516, 100541, 100543, 100549, 100552, 100562, 100594, 100595, 100597, 100606, 100613, 100626, 100631, 100648, 100649, 100679, 100698, 100772, 100773, 100791, 100799, 100816, 100818, 100820, 100832, 100860, 100865, 100866, 100889, 100930, 100931, 100932, 100934, 100937, 100939, 100949, 100953, 100956, 100957, 100961, 100964, 100977, 100978, 100981, 100985, 100987, 100989, 100996, 100998, 100999, 101033, 101036, 101052, 101057, 101064, 101066, 101073, 101077, 101091, 101093, 101144, 101169, 101180, 101201, 101206, 101243, 101253, 101254, 101257, 101268, 101271, 101274, 101275, 101289, 101376, 101399, 101861, 101873, 101900, 101916, 101928, 101941, 101946, 101950, 101953, 101956, 101972, 101984, 101987, 101988, 102006, 102013, 102015, 102038, 102053, 102057, 102059, 102062, 102064, 102077, 102078, 102088, 102106, 102110, 102112, 102130, 102268, 102295, 102296, 102308, 102309, 102311, 102334, 102366, 102394, 102409, 102449, 102452, 102461, 102513, 102623, 102718, 102734, 102876, 103003, 103013, 103031, 103083, 103242, 103305, 103326, 103391, 103465, 103466, 103468, 103473, 103482, 103537, 103568, 103598, 103715, 103751, 103756, 103788, 103810, 103909, 103960, 103961, 104014, 104015, 104074, 104075, 104114, 104131, 104151, 104157, 104170, 104173, 104201, 104214, 104215, 104222, 104224, 104232, 104238, 104261, 104263, 104326, 104342, 104366, 104381, 104389, 104427, 104431, 104463, 104464, 104465, 104481, 104501, 104517, 104518, 104537, 104567, 104592, 104606, 104620, 104635, 104637, 104661, 104669, 104685, 104691, 104692, 104693, 104695, 104697, 104717, 104719, 104724, 104755, 104779, 104780, 104782, 104790, 104793, 104800, 104818, 104828, 104851, 104867, 104870, 104871, 104896, 104904, 104948, 105010, 105017, 105066, 105069, 105077, 105095, 105102, 105119, 105143, 105144, 105161, 105181, 105192, 105198, 105204, 105207, 105225, 105260, 105262, 105288, 105293, 105298, 105301, 105302, 105308, 105310, 105312, 105314, 105324, 105325, 105337, 105375, 105410, 105427, 105431, 105434, 105462, 105516, 105537, 105562, 105632, 105822, 105826, 105829, 105835, 105852, 105895, 105897, 105902, 105912, 105923, 105924, 105925, 105943, 105944, 105946, 105951, 105970, 105972, 105973, 105974, 105976, 105977, 105980, 105982, 105986, 105988, 106001, 106006, 106033, 106044, 106047, 106050, 106074, 106100, 106153, 106154, 106170, 106171, 106179, 106206, 106214, 106223, 106228, 106240, 106277, 106280, 106285, 106286, 106289, 106303, 106311, 106315, 106332, 106337, 106345, 106349, 106353, 106366, 106373, 106387, 106388, 106390, 106391, 106393, 106394, 106587, 106600, 106605, 106617, 106638, 106643, 106681, 106682, 106713, 106718, 106771, 107051, 107126, 107144, 107184, 107187, 107198, 107211, 107226, 107256, 107295, 107326, 107344, 107346, 107377, 107525, 107547, 107550, 107552, 107557, 107564, 107566, 107567, 107571, 107575, 107650, 107712, 107716, 107718, 107728, 107733, 107734, 107747, 107749, 107757, 107760, 107761, 107765, 107804, 107806, 107840, 107843, 107844, 107857, 107883, 107904, 107916, 107946, 107950, 107968, 107978, 107994, 108005, 108007, 108016, 108022, 108047, 108054, 108055, 108056, 108059, 108154, 108172, 108225, 108394, 108531, 108556, 108584, 108616, 108669, 108671, 108711, 108731, 108888, 108914, 108941, 108949, 109008, 109062, 109067, 109116, 109197, 109247, 109296, 109478, 109546, 109561, 109586, 109593, 109621, 109628, 109638, 109640, 109700, 109773, 109791, 109821, 109835, 109957, 110378, 110423, 110446, 110491, 110699, 110703, 110732, 110742, 110873, 110905, 110919, 110939, 110966, 111077, 111086, 111117, 111236, 111293, 111334, 111404, 111497, 111518, 111525, 111542, 111546, 111561, 111711, 111725, 111778, 111783, 111879, 111920, 111959, 112016, 112019, 112071, 112122, 112257, 112277, 112370, 112598, 112603, 112658, 112726, 112822, 112980, 113030, 113293, 113322, 113337, 113407, 113562, 113565, 113756, 113845, 113896, 113916, 113980, 114016, 114055, 114058, 114085, 114086, 114111, 114112, 114139, 114147, 114154, 114233, 114242, 114258, 114332, 114441, 114514, 114647, 114648, 114707, 114741, 114800, 114884, 115007, 115038, 115097, 115138, 115248, 115416, 115480, 115547, 115577, 115681, 115692, 115798, 115966, 116068, 116174, 116236, 116309, 116415, 116593, 116761, 117026, 117262, 117372, 117393, 117437, 117744, 117860, 117861, 117987, 118189, 118212, 118304, 118429, 118658, 118819, 118882, 118901, 119037, 119140, 119161, 119166, 119280, 119467, 119497, 119542, 119850, 119877, 119879, 120028, 120050, 120053, 120061, 120100, 120206, 120208, 120239, 120255, 120354, 120366, 120423, 120541, 120544, 120600, 120641, 120765, 120772, 120973, 121004, 121188, 121274, 121312, 121450, 121689, 121717, 121775, 121791, 121945, 122018, 122020, 122046, 122114, 122130, 122182, 122190, 122232, 122236, 122249, 122282, 122307, 122353, 122381, 122397, 122419, 122451, 122453, 122455, 122483, 122624, 122630, 122669, 122737, 122806, 123043, 123188, 123267, 123269, 123288, 123358, 123534, 123535, 123580, 123636, 123694, 124102, 124191, 124285, 124360, 124418, 124586, 124617, 124646, 124770, 124811, 124859, 124865, 125000, 125014, 125045, 125169, 125175, 125270, 125343, 125346, 125578, 125598, 125613, 125648, 125653, 125667, 125689, 125711, 125732, 125844, 125879, 125900, 125930, 126048, 126201, 126233, 126234, 126353, 126574, 126581, 126664, 126790, 126830, 126831, 126852, 126893, 126900, 127026, 127057, 127328, 127398, 127427, 127518, 127683, 127684, 127685, 127695, 127697, 127748, 127926, 127927, 128058, 128124, 128125, 128184, 128303, 128381, 128384, 128385, 128408, 128446, 128619, 128632, 128650, 128651, 128652, 128759, 128895, 128957, 128995, 129163, 129268, 129354, 129381, 129412, 129509, 129543, 129544, 129545, 129576, 129608, 129802, 129803, 129804, 129824, 129829, 129830, 129831, 129917, 129919, 129936, 129965, 129966, 129973, 130010, 130037, 130116, 130168, 130184, 130213, 130230, 130231, 130232, 130324, 130325, 130334, 130384, 130385, 130398, 130413, 130417, 130420, 130422, 130451, 130512, 130513, 130553, 130588, 130596, 130697, 130797, 130806, 130807, 130854, 130894, 130895, 130924, 131055, 131089, 131118, 131138, 131143, 131144, 131145, 131146, 131156, 131157, 131182, 131185, 131188, 131189, 131190, 131191, 131197, 131198, 131199, 131331, 131535, 131542, 131549, 131621]\n"
     ]
    }
   ],
   "source": [
    "count_sql = '''SELECT COUNT(*) \n",
    "                FROM gis.centreline \n",
    "                WHERE FCODE_DESC IN ('Collector','Collector Ramp',\n",
    "                'Local','Major Arterial','Major Arterial Ramp','Minor Arterial',\n",
    "                'Minor Arterial Ramp','Pending') '''\n",
    "with con:\n",
    "    with con.cursor(cursor_factory=RealDictCursor) as cur:\n",
    "            cur.execute(count_sql)\n",
    "            count_results = cur.fetchall()\n",
    "            count = count_results[0]['count']\n",
    "            \n",
    "unmatched_gid_kevin = []\n",
    "\n",
    "for i in range(0, count, 500):\n",
    "    get_centreline_sql = '''SELECT 'Feature' as type,  json_build_object('gid', gid) as properties, ST_AsGeoJson(geom)::json as geometry FROM gis.centreline WHERE FCODE_DESC IN ('Collector','Collector Ramp',\n",
    "    'Local','Major Arterial','Major Arterial Ramp','Minor Arterial',\n",
    "    'Minor Arterial Ramp','Pending') ORDER BY gid LIMIT {} OFFSET {}'''.format(500, i)\n",
    "\n",
    "    with con:\n",
    "        with con.cursor(cursor_factory=RealDictCursor) as cur:\n",
    "            cur.execute(get_centreline_sql)\n",
    "            results = cur.fetchall()\n",
    "            final_json = json.dumps({\"type\": \"FeatureCollection\",\n",
    "                                    \"features\": results})\n",
    "            \n",
    "# Send data to SharedStreets API    \n",
    "    base_url = \"https://api.sharedstreets.io/v0.1.0/match/geoms\"\n",
    "    apiKey = \"bdd23fa1-7ac5-4158-b354-22ec946bb575\"\n",
    "    params = {'ignoreDirection': 'false',\n",
    "              'bearingTolerance' : 45 ,\n",
    "              'searchRadius' : 60,\n",
    "              'auth' : apiKey,\n",
    "              'tileHierarchy': 6,\n",
    "              'dataSource': 'osm/planet-181029',\n",
    "              'lengthTolerance' : 0.60,\n",
    "              'snapTopology': 'true'\n",
    "             }\n",
    "    headers= {\"Content-type\": \"application/json; charset=UTF-8\"}\n",
    "    \n",
    "    r = requests.post(base_url, params = params, headers = headers, json = {\"type\": \"FeatureCollection\", \"features\": results})\n",
    "    returned_json = r.json()\n",
    "    unmatched1 = returned_json.get('unmatched').get('features')\n",
    "    for feature in unmatched1:\n",
    "        unmatched_id1 = (feature['properties']['gid'])\n",
    "        unmatched_gid_kevin.append(unmatched_id1)\n",
    "    \n",
    "\n",
    "            \n",
    "# Print unmatched features                \n",
    "print(unmatched_gid_kevin)"
   ]
  },
  {
   "cell_type": "code",
   "execution_count": 588,
   "metadata": {},
   "outputs": [
    {
     "data": {
      "text/plain": [
       "2182"
      ]
     },
     "execution_count": 588,
     "metadata": {},
     "output_type": "execute_result"
    }
   ],
   "source": [
    "len(unmatched_gid_kevin)"
   ]
  },
  {
   "cell_type": "code",
   "execution_count": 600,
   "metadata": {},
   "outputs": [
    {
     "name": "stdout",
     "output_type": "stream",
     "text": [
      "[64036, 64075, 64106, 64133, 64139, 64205, 64275, 64285, 64299, 64306, 64328, 64340, 64342, 64624, 64645, 64747, 64769, 64788, 64953, 65172, 65241, 65248, 65335, 65388, 65493, 65640, 65819, 65953, 65957, 65967, 66172, 66209, 66286, 66327, 66330, 66331, 66633, 66731, 66818, 66860, 66895, 67010, 67060, 67174, 67278, 67279, 67310, 67311, 67329, 67345, 67391, 67576, 67580, 67627, 67645, 67647, 67753, 67782, 67856, 67930, 67969, 68047, 68292, 68487, 68556, 68734, 68796, 68981, 69134, 69216, 69339, 69361, 69397, 69421, 69445, 69446, 69629, 69633, 69673, 69705, 69706, 69864, 69884, 70016, 70046, 70061, 70066, 70079, 70080, 70108, 70133, 70156, 70158, 70161, 70171, 70297, 70324, 70325, 70356, 70374, 70398, 70402, 70441, 70495, 70526, 70629, 70823, 70829, 70931, 70932, 70936, 70984, 71010, 71035, 71038, 71071, 71074, 71077, 71290, 71368, 71486, 71499, 71665, 71684, 71731, 71786, 72097, 72131, 72135, 72144, 72145, 72149, 72152, 72164, 72170, 72171, 72187, 72198, 72200, 72201, 72217, 72265, 72282, 72283, 72317, 72332, 72434, 72440, 72445, 72447, 72450, 72459, 72464, 72503, 72506, 72576, 72601, 72620, 72687, 72691, 72704, 72778, 72910, 73005, 73062, 73091, 73094, 73286, 73418, 73553, 73566, 73603, 73689, 73919, 73930, 74041, 74060, 74129, 74134, 74157, 74180, 74181, 74184, 74190, 74207, 74409, 74425, 74466, 74866, 74891, 75086, 75229, 75241, 75243, 75255, 75310, 75325, 75327, 75408, 75418, 75437, 75505, 75509, 75536, 75537, 75542, 75566, 75657, 75659, 75815, 75903, 75923, 76246, 76262, 76293, 76383, 76385, 76389, 76415, 76462, 76466, 76481, 76489, 76492, 76521, 76524, 76543, 76567, 76570, 76603, 76707, 76726, 76729, 76732, 76841, 76873, 76922, 76933, 76965, 77016, 77021, 77041, 77052, 77096, 77101, 77147, 77320, 77322, 77362, 77374, 77467, 77500, 77571, 77589, 77616, 77645, 77647, 77731, 77759, 77777, 77793, 78223, 78239, 78260, 78323, 78324, 78336, 78349, 78363, 78563, 78615, 78625, 78626, 78647, 78664, 78707, 78709, 78716, 78717, 78719, 78735, 78742, 78748, 78753, 78771, 78775, 78780, 78781, 78926, 78961, 78964, 78970, 78984, 78986, 79032, 79033, 79036, 79065, 79090, 79100, 79103, 79133, 79143, 79145, 79147, 79148, 79150, 79239, 79250, 79277, 79312, 79340, 79373, 79393, 79397, 79424, 79427, 79428, 79434, 79466, 79467, 79471, 79472, 79473, 79475, 79497, 79499, 79501, 79503, 79504, 79507, 79508, 79511, 79514, 79517, 79541, 79545, 79552, 79582, 79585, 79588, 79621, 79623, 79659, 79662, 79700, 79701, 79704, 79727, 79750, 79785, 79786, 79797, 79802, 79808, 79814, 79815, 79825, 79828, 79845, 79848, 79860, 79863, 79889, 79892, 79893, 79900, 79918, 79924, 79932, 79947, 79948, 79952, 79956, 79975, 79978, 79980, 79982, 80040, 80082, 80085, 80088, 80098, 80099, 80100, 80139, 80161, 80162, 80163, 80165, 80168, 80170, 80191, 80192, 80193, 80194, 80206, 80208, 80209, 80227, 80240, 80284, 80291, 80301, 80307, 80318, 80323, 80324, 80328, 80329, 80332, 80334, 80337, 80355, 80357, 80361, 80365, 80366, 80378, 80387, 80393, 80394, 80396, 80400, 80401, 80404, 80416, 80427, 80429, 80444, 80445, 80446, 80461, 80462, 80465, 80466, 80468, 80470, 80472, 80476, 80478, 80481, 80482, 80483, 80499, 80500, 80530, 80539, 80540, 80541, 80542, 80543, 80544, 80546, 80552, 80566, 80568, 80571, 80573, 80578, 80579, 80581, 80583, 80591, 80594, 80603, 80604, 80605, 80618, 80631, 80633, 80638, 80649, 80652, 80655, 80662, 80664, 80666, 80667, 80670, 80672, 80676, 80677, 80728, 80733, 80751, 80753, 80754, 80755, 80761, 80764, 80766, 80769, 80781, 80782, 80787, 80789, 80796, 80804, 80807, 80819, 80821, 80834, 80899, 80904, 80906, 80907, 80922, 80923, 80936, 80944, 80955, 80980, 80981, 80983, 80999, 81001, 81025, 81038, 81040, 81041, 81056, 81057, 81068, 81070, 81072, 81088, 81112, 81128, 81140, 81176, 81178, 81181, 81186, 81225, 81226, 81230, 81241, 81244, 81255, 81268, 81288, 81290, 81367, 81369, 81390, 81398, 81431, 81434, 81436, 81444, 81445, 81447, 81450, 81457, 81464, 81469, 81473, 81499, 81507, 81510, 81541, 81546, 81549, 81573, 81604, 81609, 81620, 81621, 81628, 81647, 81657, 81671, 81701, 81704, 81708, 81712, 81723, 81727, 81728, 81738, 81744, 81747, 81753, 81756, 81762, 81772, 81783, 81805, 81806, 81807, 81824, 81831, 81852, 81857, 81879, 81883, 81886, 81892, 81897, 81917, 81922, 81931, 81937, 81943, 81945, 81947, 81958, 81964, 81988, 81989, 82002, 82022, 82037, 82059, 82065, 82070, 82090, 82095, 82110, 82111, 82118, 82127, 82131, 82151, 82171, 82172, 82176, 82177, 82183, 82185, 82200, 82207, 82219, 82239, 82256, 82280, 82289, 82290, 82292, 82295, 82299, 82304, 82306, 82308, 82312, 82322, 82330, 82333, 82343, 82358, 82359, 82361, 82362, 82364, 82365, 82366, 82367, 82378, 82379, 82383, 82385, 82396, 82433, 82437, 82453, 82455, 82464, 82467, 82478, 82481, 82485, 82488, 82489, 82491, 82492, 82524, 82553, 82557, 82563, 82615, 82616, 82617, 82619, 82639, 82655, 82656, 82659, 82687, 82700, 82723, 82763, 82765, 82771, 82774, 82829, 82836, 82841, 82845, 82858, 82863, 82865, 82866, 82896, 82904, 82936, 82949, 82953, 82982, 83024, 83026, 83027, 83029, 83038, 83044, 83046, 83047, 83053, 83057, 83064, 83068, 83100, 83102, 83105, 83121, 83123, 83125, 83138, 83142, 83149, 83154, 83165, 83181, 83185, 83191, 83206, 83209, 83210, 83219, 83224, 83227, 83230, 83233, 83235, 83242, 83244, 83250, 83254, 83255, 83261, 83264, 83265, 83266, 83281, 83287, 83292, 83293, 83299, 83303, 83304, 83306, 83309, 83316, 83324, 83330, 83337, 83341, 83344, 83346, 83359, 83369, 83370, 83378, 83383, 83384, 83385, 83387, 83389, 83391, 83392, 83400, 83401, 83410, 83411, 83415, 83417, 83424, 83440, 83441, 83460, 83466, 83469, 83478, 83482, 83508, 83513, 83519, 83551, 83581, 83601, 83605, 83611, 83629, 83633, 83635, 83652, 83656, 83684, 83709, 83727, 83728, 83730, 83740, 83747, 83749, 83750, 83813, 83815, 83817, 83835, 83848, 83855, 83858, 83860, 83868, 83884, 83896, 83899, 83901, 83914, 83929, 83937, 83940, 83955, 83956, 83959, 83974, 83975, 83976, 83982, 83986, 83993, 84011, 84041, 84050, 84069, 84072, 84125, 84130, 84143, 84150, 84204, 84206, 84207, 84208, 84219, 84243, 84245, 84258, 84274, 84278, 84279, 84281, 84283, 84287, 84289, 84308, 84309, 84312, 84313, 84324, 84327, 84328, 84331, 84348, 84353, 84354, 84355, 84375, 84409, 84415, 84419, 84438, 84459, 84467, 84469, 84481, 84494, 84502, 84505, 84506, 84508, 84515, 84516, 84527, 84530, 84536, 84557, 84563, 84565, 84569, 84574, 84593, 84595, 84596, 84605, 84607, 84609, 84620, 84627, 84644, 84679, 84699, 84700, 84701, 84707, 84709, 84728, 84729, 84731, 84740, 84756, 84773, 84804, 84805, 84807, 84822, 84825, 84830, 84831, 84862, 84863, 84873, 84876, 84884, 84887, 84890, 84891, 84908, 84914, 84928, 84932, 84938, 84956, 84968, 84974, 84983, 85009, 85022, 85025, 85026, 85027, 85031, 85034, 85046, 85080, 85086, 85100, 85112, 85139, 85147, 85161, 85162, 85164, 85178, 85183, 85192, 85193, 85195, 85201, 85221, 85253, 85277, 85279, 85297, 85342, 85345, 85348, 85350, 85367, 85382, 85408, 85435, 85436, 85449, 85455, 85456, 85475, 85481, 85484, 85485, 85522, 85531, 85535, 85536, 85543, 85575, 85576, 85580, 85610, 85611, 85615, 85626, 85630, 85634, 85636, 85647, 85660, 85661, 85663, 85671, 85694, 85710, 85718, 85732, 85775, 85794, 85812, 85840, 85841, 85852, 85856, 85866, 85867, 85868, 85888, 85894, 85896, 85897, 85898, 85919, 85969, 85971, 85973, 85976, 85978, 86010, 86011, 86012, 86016, 86021, 86023, 86028, 86056, 86090, 86091, 86094, 86096, 86106, 86112, 86128, 86133, 86144, 86145, 86147, 86156, 86163, 86176, 86183, 86187, 86192, 86207, 86224, 86233, 86246, 86258, 86260, 86280, 86299, 86301, 86305, 86308, 86310, 86312, 86317, 86322, 86323, 86337, 86344, 86345, 86348, 86375, 86377, 86378, 86382, 86384, 86407, 86411, 86416, 86419, 86441, 86444, 86445, 86448, 86450, 86452, 86497, 86517, 86533, 86536, 86537, 86591, 86607, 86609, 86618, 86620, 86642, 86646, 86650, 86659, 86660, 86662, 86683, 86686, 86687, 86688, 86714, 86723, 86727, 86728, 86731, 86736, 86772, 86775, 86784, 86802, 86823, 86846, 86859, 86865, 86867, 86925, 86953, 86968, 87006, 87035, 87151, 87159, 87165, 87242, 87247, 87289, 87629, 87648, 87664, 87671, 87698, 87797, 87957, 87989, 88080, 88117, 88144, 88300, 88306, 88331, 88332, 88337, 88367, 88369, 88371, 88394, 88396, 88429, 88453, 88492, 88504, 88512, 88536, 88651, 88915, 88918, 89171, 89228, 89242, 89302, 89303, 89368, 89438, 89461, 89633, 89741, 89858, 89872, 89884, 89982, 90012, 90032, 90050, 90081, 90082, 90170, 90190, 90217, 90245, 90314, 90341, 90367, 90537, 90543, 90592, 90654, 90818, 90846, 90874, 90881, 91076, 91093, 91094, 91166, 91297, 91391, 91433, 91442, 91452, 91492, 91501, 91631, 91676, 91721, 91729, 91748, 91801, 91906, 91972, 91980, 91981, 91982, 91983, 92010, 92022, 92094, 92157, 92174, 92296, 92304, 92305, 92324, 92375, 92673, 92680, 92826, 92850, 92985, 93032, 93033, 93045, 93058, 93080, 93097, 93231, 93238, 93318, 93399, 93521, 93567, 93611, 93748, 93752, 93768, 93773, 93805, 93827, 93860, 93865, 93881, 94221, 94265, 94287, 94308, 94514, 94551, 94560, 94724, 94808, 94809, 94955, 95048, 95178, 95233, 95564, 95613, 95726, 95793, 95903, 95942, 95963, 96014, 96077, 96345, 96412, 96458, 96526, 96564, 96625, 96674, 96760, 96783, 96897, 97024, 97051, 97115, 97164, 97198, 97242, 97265, 97270, 97304, 97314, 97384, 97695, 97713, 97840, 97892, 97939, 98045, 98115, 98119, 98244, 98447, 98469, 98473, 98566, 98662, 98958, 99131, 99154, 99167, 99171, 99208, 99214, 99288, 99303, 99305, 99307, 99308, 99311, 99316, 99327, 99350, 99374, 99377, 99385, 99388, 99389, 99390, 99412, 99413, 99424, 99520, 99544, 99545, 99567, 99573, 99599, 99605, 99608, 99654, 99720, 99733, 99743, 99746, 99756, 99761, 99762, 99787, 99789, 99792, 99818, 99840, 99842, 99912, 99941, 99982, 100024, 100035, 100056, 100057, 100073, 100101, 100116, 100160, 100312, 100353, 100355, 100377, 100417, 100422, 100426, 100427, 100428, 100451, 100455, 100458, 100495, 100511, 100512, 100514, 100516, 100541, 100543, 100549, 100552, 100562, 100594, 100595, 100597, 100606, 100613, 100626, 100631, 100648, 100649, 100679, 100698, 100772, 100773, 100791, 100799, 100816, 100818, 100820, 100832, 100860, 100865, 100866, 100889, 100930, 100931, 100932, 100934, 100937, 100939, 100949, 100953, 100956, 100957, 100961, 100964, 100977, 100978, 100981, 100985, 100987, 100989, 100996, 100998, 100999, 101033, 101036, 101052, 101057, 101064, 101066, 101073, 101077, 101091, 101093, 101144, 101169, 101180, 101201, 101206, 101243, 101253, 101254, 101257, 101268, 101271, 101274, 101275, 101289, 101376, 101399, 101861, 101873, 101900, 101916, 101928, 101941, 101946, 101950, 101953, 101956, 101972, 101984, 101987, 101988, 102006, 102013, 102015, 102038, 102053, 102057, 102059, 102062, 102064, 102077, 102078, 102088, 102106, 102110, 102112, 102130, 102268, 102295, 102296, 102308, 102309, 102311, 102334, 102366, 102394, 102409, 102449, 102452, 102461, 102513, 102623, 102718, 102734, 102876, 103003, 103013, 103031, 103083, 103242, 103305, 103326, 103391, 103465, 103466, 103468, 103473, 103482, 103537, 103568, 103598, 103715, 103751, 103756, 103788, 103810, 103909, 103960, 103961, 104014, 104015, 104074, 104075, 104114, 104131, 104151, 104157, 104170, 104173, 104201, 104214, 104215, 104222, 104224, 104232, 104238, 104261, 104263, 104326, 104342, 104366, 104381, 104389, 104427, 104431, 104463, 104464, 104465, 104481, 104501, 104517, 104518, 104537, 104567, 104592, 104606, 104620, 104635, 104637, 104661, 104669, 104685, 104691, 104692, 104693, 104695, 104697, 104717, 104719, 104724, 104755, 104779, 104780, 104782, 104790, 104793, 104800, 104818, 104828, 104851, 104867, 104870, 104871, 104896, 104904, 104948, 105010, 105017, 105066, 105069, 105077, 105095, 105102, 105119, 105143, 105144, 105161, 105181, 105192, 105198, 105204, 105207, 105225, 105260, 105262, 105288, 105293, 105298, 105301, 105302, 105308, 105310, 105312, 105314, 105324, 105325, 105337, 105375, 105410, 105427, 105431, 105434, 105462, 105516, 105537, 105562, 105632, 105822, 105826, 105829, 105835, 105852, 105895, 105897, 105902, 105912, 105923, 105924, 105925, 105943, 105944, 105946, 105951, 105970, 105972, 105973, 105974, 105976, 105977, 105980, 105982, 105986, 105988, 106001, 106006, 106033, 106044, 106047, 106050, 106074, 106100, 106153, 106154, 106170, 106171, 106179, 106206, 106214, 106223, 106228, 106240, 106277, 106280, 106285, 106286, 106289, 106303, 106311, 106315, 106332, 106337, 106345, 106349, 106353, 106366, 106373, 106387, 106388, 106390, 106391, 106393, 106394, 106587, 106600, 106605, 106617, 106638, 106643, 106681, 106682, 106713, 106718, 106771, 107051, 107126, 107144, 107184, 107187, 107198, 107211, 107226, 107256, 107295, 107326, 107344, 107346, 107377, 107525, 107547, 107550, 107552, 107557, 107564, 107566, 107567, 107571, 107575, 107650, 107712, 107716, 107718, 107728, 107733, 107734, 107747, 107749, 107757, 107760, 107761, 107765, 107804, 107806, 107840, 107843, 107844, 107857, 107883, 107904, 107916, 107946, 107950, 107968, 107978, 107994, 108005, 108007, 108016, 108022, 108047, 108054, 108055, 108056, 108059, 108154, 108172, 108225, 108394, 108531, 108556, 108584, 108616, 108669, 108671, 108711, 108731, 108888, 108914, 108941, 108949, 109008, 109062, 109067, 109116, 109197, 109247, 109296, 109478, 109546, 109561, 109586, 109593, 109621, 109628, 109638, 109640, 109700, 109773, 109791, 109821, 109835, 109957, 110378, 110423, 110446, 110491, 110699, 110703, 110732, 110742, 110873, 110905, 110919, 110939, 110966, 111077, 111086, 111117, 111236, 111293, 111334, 111404, 111497, 111518, 111525, 111542, 111546, 111561, 111711, 111725, 111778, 111783, 111879, 111920, 111959, 112016, 112019, 112071, 112122, 112257, 112277, 112370, 112598, 112603, 112658, 112726, 112822, 112980, 113030, 113293, 113322, 113337, 113407, 113562, 113565, 113756, 113845, 113896, 113916, 113980, 114016, 114055, 114058, 114085, 114086, 114111, 114112, 114139, 114147, 114154, 114233, 114242, 114258, 114332, 114441, 114514, 114647, 114648, 114707, 114741, 114800, 114884, 115007, 115038, 115097, 115138, 115248, 115416, 115480, 115547, 115577, 115681, 115692, 115798, 115966, 116068, 116174, 116236, 116309, 116415, 116593, 116761, 117026, 117262, 117372, 117393, 117437, 117744, 117860, 117861, 117987, 118189, 118212, 118304, 118429, 118658, 118819, 118882, 118901, 119037, 119140, 119161, 119166, 119280, 119467, 119497, 119542, 119850, 119877, 119879, 120028, 120050, 120053, 120061, 120100, 120206, 120208, 120239, 120255, 120354, 120366, 120423, 120541, 120544, 120600, 120641, 120765, 120772, 120973, 121004, 121188, 121274, 121312, 121450, 121689, 121717, 121775, 121791, 121945, 122018, 122020, 122046, 122114, 122130, 122182, 122190, 122232, 122236, 122249, 122282, 122307, 122353, 122381, 122397, 122419, 122451, 122453, 122455, 122483, 122624, 122630, 122669, 122737, 122806, 123043, 123188, 123267, 123269, 123288, 123358, 123534, 123535, 123580, 123636, 123694, 124102, 124191, 124285, 124360, 124418, 124586, 124617, 124646, 124770, 124811, 124859, 124865, 125000, 125014, 125045, 125169, 125175, 125270, 125343, 125346, 125578, 125598, 125613, 125648, 125653, 125667, 125689, 125711, 125732, 125844, 125879, 125900, 125930, 126048, 126201, 126233, 126234, 126353, 126574, 126581, 126664, 126790, 126830, 126831, 126852, 126893, 126900, 127026, 127057, 127328, 127398, 127427, 127518, 127683, 127684, 127685, 127695, 127697, 127748, 127926, 127927, 128058, 128124, 128125, 128184, 128303, 128381, 128384, 128385, 128408, 128446, 128619, 128632, 128650, 128651, 128652, 128759, 128895, 128957, 128995, 129163, 129268, 129354, 129381, 129412, 129509, 129543, 129544, 129545, 129576, 129608, 129802, 129803, 129804, 129824, 129829, 129830, 129831, 129917, 129919, 129936, 129965, 129966, 129973, 130010, 130037, 130116, 130168, 130184, 130213, 130230, 130231, 130232, 130324, 130325, 130334, 130384, 130385, 130398, 130413, 130417, 130420, 130422, 130451, 130512, 130513, 130553, 130588, 130596, 130697, 130797, 130806, 130807, 130854, 130894, 130895, 130924, 131055, 131089, 131118, 131138, 131143, 131144, 131145, 131146, 131156, 131157, 131182, 131185, 131188, 131189, 131190, 131191, 131197, 131198, 131199, 131331, 131535, 131542, 131549, 131621]\n"
     ]
    }
   ],
   "source": [
    "# Pull data from Database\n",
    "count = len(unmatched_gid_kevin)\n",
    "           \n",
    "unmatched_unmatched_gid_kevin = []\n",
    "\n",
    "for i in range(0, count, 500):\n",
    "    get_centreline_sql = '''SELECT 'Feature' as type,  json_build_object('gid', gid) as properties, ST_AsGeoJson(geom)::json as geometry \n",
    "    FROM gis.centreline WHERE FCODE_DESC IN ('Collector','Collector Ramp',\n",
    "    'Local','Major Arterial','Major Arterial Ramp','Minor Arterial',\n",
    "    'Minor Arterial Ramp','Pending') AND gid IN {} ORDER BY gid LIMIT {} OFFSET {}'''.format(tuple(unmatched_gid_kevin), 500, i)\n",
    "\n",
    "    with con:\n",
    "        with con.cursor(cursor_factory=RealDictCursor) as cur:\n",
    "            cur.execute(get_centreline_sql)\n",
    "            results = cur.fetchall()\n",
    "            final_json = json.dumps({\"type\": \"FeatureCollection\",\n",
    "                                    \"features\": results})\n",
    "            \n",
    "# Send data to SharedStreets API    \n",
    "    base_url = \"https://api.sharedstreets.io/v0.1.0/match/geoms\"\n",
    "    apiKey = \"bdd23fa1-7ac5-4158-b354-22ec946bb575\"\n",
    "    params = {'ignoreDirection': 'false',\n",
    "              'bearingTolerance' : 45 ,\n",
    "              'searchRadius' : 60,\n",
    "              'auth' : apiKey,\n",
    "              'tileHierarchy': 6,\n",
    "              'dataSource': 'osm/planet-181029',\n",
    "              'lengthTolerance' : 0.60,\n",
    "              'snapTopology': 'true'\n",
    "             }\n",
    "    headers= {\"Content-type\": \"application/json; charset=UTF-8\"}\n",
    "    \n",
    "    r = requests.post(base_url, params = params, headers = headers, json = {\"type\": \"FeatureCollection\", \"features\": results})\n",
    "    \n",
    "    returned_json = r.json()\n",
    "    unmatched1 = returned_json.get('unmatched').get('features')\n",
    "    for feature in unmatched1:\n",
    "        unmatched_id1 = (feature['properties']['gid'])\n",
    "        unmatched_unmatched_gid_kevin.append(unmatched_id1)                  \n",
    "    \n",
    "\n",
    "# Print unmatched features                \n",
    "print(unmatched_unmatched_gid_kevin)"
   ]
  },
  {
   "cell_type": "code",
   "execution_count": 601,
   "metadata": {},
   "outputs": [
    {
     "data": {
      "text/plain": [
       "2182"
      ]
     },
     "execution_count": 601,
     "metadata": {},
     "output_type": "execute_result"
    }
   ],
   "source": [
    "len(unmatched_unmatched_gid_kevin)"
   ]
  },
  {
   "cell_type": "code",
   "execution_count": 661,
   "metadata": {},
   "outputs": [
    {
     "name": "stdout",
     "output_type": "stream",
     "text": [
      "0\n",
      "[(3, 25, 60, 0.3, 1642, 0)]\n"
     ]
    },
    {
     "data": {
      "text/plain": [
       "1642"
      ]
     },
     "execution_count": 661,
     "metadata": {},
     "output_type": "execute_result"
    }
   ],
   "source": [
    "# First time running\n",
    "#null_matched= []\n",
    "#unmatched_1 = matching(60, 0.60, 45, 1, None, 'gis_shared_streets.centreline_both_dir',  'gis_shared_streets.centreline_matched', con)\n",
    "#print(unmatched_1)\n",
    "\n",
    "# Second time running\n",
    "#unmatched_2 = matching(60, 0.3, 45, 2, unmatched_1, 'gis_shared_streets.centreline_both_dir', 'gis_shared_streets.centreline_matched', con)\n",
    "#len(unmatched_2)\n",
    "\n",
    "# third time running\n",
    "unmatched_3 = matching(60, 0.3, 25, 3, unmatched_2, 'gis_shared_streets.centreline_both_dir', 'gis_shared_streets.centreline_matched','gis_shared_streets.centreline_query_info', con)\n",
    "len(unmatched_3)"
   ]
  },
  {
   "cell_type": "code",
   "execution_count": 660,
   "metadata": {},
   "outputs": [],
   "source": [
    "\n",
    "def matching(search_radius, length_tolerance, bearing_tolerance, query_num, previously_unmatched_id, input_table, output_table, query_info_table, primary_key1, primary_key2, con):\n",
    "    \n",
    "    # None -> if its first time\n",
    "    # [] -> if everything has been matched \n",
    "    # [x,y, ... ]\n",
    "    \n",
    "    \n",
    "    # eveyrthing was matched by previous calls to shared streets\n",
    "    if previously_unmatched_id == []:\n",
    "        return \"Everything is matched\"\n",
    "    \n",
    "    \n",
    "    # get number of rows that need to be matched \n",
    "    \n",
    "    if previously_unmatched_id is None: \n",
    "            \n",
    "        count_sql = '''SELECT COUNT(*) \n",
    "                FROM gis_shared_streets.centreline_both_dir \n",
    "                WHERE FCODE_DESC IN ('Collector','Collector Ramp',\n",
    "                'Local','Major Arterial','Major Arterial Ramp','Minor Arterial',\n",
    "                'Minor Arterial Ramp','Pending') '''\n",
    "            \n",
    "        with con:\n",
    "            with con.cursor(cursor_factory=RealDictCursor) as cur:\n",
    "                    cur.execute(count_sql)\n",
    "                    count_results = cur.fetchall()\n",
    "                    count = count_results[0]['count']\n",
    "                    \n",
    "                    \n",
    "    else: \n",
    "        count = len(previously_unmatched_id)\n",
    "            \n",
    "    \n",
    "    \n",
    "    # list for all the ids that do not get matched \n",
    "    unmatched_rows = []\n",
    "    \n",
    "    for i in range(0, count, 500):\n",
    "        \n",
    "        #print(\"i right now\" + str(i))\n",
    "        \n",
    "        if previously_unmatched_id is None: \n",
    "            # first time calling function on input table \n",
    "            get_centreline_sql = '''SELECT 'Feature' as type,  json_build_object('geo_id', geo_id, 'direction', direction) as properties, ST_AsGeoJson(dir_geom)::json as geometry \n",
    "            FROM ''' + input_table + '''\n",
    "            WHERE FCODE_DESC IN ('Collector','Collector Ramp',\n",
    "            'Local','Major Arterial','Major Arterial Ramp','Minor Arterial',\n",
    "            'Minor Arterial Ramp','Pending') ORDER BY geo_id LIMIT 500 OFFSET {}'''.format(i)\n",
    "            \n",
    "        else:\n",
    "            # you have already called the function on input table (or tried matching table using shared streets somehow)\n",
    "            get_centreline_sql = '''SELECT 'Feature' as type,  json_build_object('geo_id', geo_id, 'direction', direction) as properties, ST_AsGeoJson(dir_geom)::json as geometry \n",
    "            FROM gis_shared_streets.centreline_both_dir WHERE FCODE_DESC IN ('Collector','Collector Ramp',\n",
    "            'Local','Major Arterial','Major Arterial Ramp','Minor Arterial',\n",
    "            'Minor Arterial Ramp','Pending') AND geo_id||direction IN {} ORDER BY geo_id LIMIT 500 OFFSET {}'''.format(tuple(previously_unmatched_id), i)\n",
    "\n",
    "        with con:\n",
    "            with con.cursor(cursor_factory=RealDictCursor) as cur:\n",
    "                cur.execute(get_centreline_sql)\n",
    "                results = cur.fetchall()\n",
    "                final_json = json.dumps({\"type\": \"FeatureCollection\",\n",
    "                                        \"features\": results})\n",
    "\n",
    "    # Send data to SharedStreets API    \n",
    "        base_url = \"https://api.sharedstreets.io/v0.1.0/match/geoms\"\n",
    "        apiKey = \"bdd23fa1-7ac5-4158-b354-22ec946bb575\"\n",
    "        params = {'ignoreDirection': 'false',\n",
    "                  'bearingTolerance' : bearing_tolerance,\n",
    "                  'searchRadius' : search_radius,\n",
    "                  'auth' : apiKey,\n",
    "                  'tileHierarchy': 6,\n",
    "                  'dataSource': 'osm/planet-181029',\n",
    "                  'lengthTolerance' : length_tolerance,\n",
    "                  'snapTopology': 'true'\n",
    "                 }\n",
    "        headers= {\"Content-type\": \"application/json; charset=UTF-8\"}\n",
    "\n",
    "        r = requests.post(base_url, params = params, headers = headers, json = {\"type\": \"FeatureCollection\", \"features\": results})\n",
    "        returned_json = r.json()\n",
    "        unmatched = returned_json.get('unmatched').get('features')\n",
    "        for feature in unmatched:\n",
    "            unmatched_id = feature['properties']['geo_id']\n",
    "            unmatched_direction = feature['properties']['direction']\n",
    "            unmatched_rows.append(str(int(unmatched_id)) + unmatched_direction)\n",
    "\n",
    "\n",
    "    # Send row to database\n",
    "        features = returned_json.get('matched').get('features')\n",
    "        rows = []\n",
    "        for feature in features:\n",
    "\n",
    "            if  feature['properties']['section'][0] > feature['properties']['section'][1]:\n",
    "                feature['properties']['section'][0] = 0\n",
    "                feature['properties']['section'][1] = 0\n",
    "                \n",
    "            if  feature['properties']['referenceId'] is None:\n",
    "                null_matched.append(str(int(feature['properties']['geo_id']))+feature['properties']['direction'])\n",
    "                continue\n",
    "\n",
    "\n",
    "\n",
    "            row = (feature['properties']['referenceId'], \n",
    "                       feature['properties']['fromIntersectionId'],\n",
    "                       feature['properties']['toIntersectionId'],\n",
    "                       feature['properties']['roadClass'], \n",
    "                       feature['properties']['direction'],\n",
    "                       feature['properties']['referenceLength'],\n",
    "                       feature['properties']['side'], \n",
    "                       feature['properties'].get('score', None),\n",
    "                       '[' + str(feature['properties']['section'][0]) +', '+ str(feature['properties']['section'][1]) +')', \n",
    "                       'SRID=4326;LineString('+','.join(' '.join(str(x) for x in tup) for tup in feature['geometry']['coordinates'])+')', \n",
    "                       feature['properties']['originalFeature']['properties']['geo_id'],\n",
    "                       feature['properties']['originalFeature']['properties']['direction'], \n",
    "                       query_num)\n",
    "\n",
    "\n",
    "            rows.append(row)\n",
    "\n",
    "\n",
    "\n",
    "        sql='INSERT INTO ' + output_table + '(reference_id, from_intersection, to_intersection, road_class, direction, reference_length, side,score, section, geometry, geo_id, direction_centreline, query_num) VALUES %s'\n",
    "    \n",
    "\n",
    "        with con:\n",
    "            with con.cursor() as cur:\n",
    "                execute_values(cur, \n",
    "                               sql, \n",
    "                               rows) \n",
    "    \n",
    "   \n",
    "\n",
    "    print(count-len(unmatched_rows))\n",
    "    \n",
    "    query_info = [(query_num,bearing_tolerance, search_radius, length_tolerance, count, count-len(unmatched_rows))]\n",
    "    \n",
    "    print(query_info)\n",
    "    \n",
    "    sql ='INSERT INTO ' + query_info_table +'(query_num, bearing_tolerance, search_radius, length_tolerance, total_rows, matched_rows) VALUES %s'\n",
    "    with con:\n",
    "            with con.cursor() as cur:\n",
    "                execute_values(cur, \n",
    "                               sql, \n",
    "                               query_info) \n",
    "    \n",
    "    return unmatched_rows"
   ]
  },
  {
   "cell_type": "code",
   "execution_count": 662,
   "metadata": {},
   "outputs": [],
   "source": [
    "def create_query_info_table(layer_name):\n",
    "    sql = 'CREATE TABLE gis_shared_streets.'+layer_name+'_query_info_table (like gis_shared_streets.platonic_ideal_query_info_table)'"
   ]
  },
  {
   "cell_type": "code",
   "execution_count": null,
   "metadata": {},
   "outputs": [],
   "source": []
  }
 ],
 "metadata": {
  "kernelspec": {
   "display_name": "jupyterhub",
   "language": "python",
   "name": "jupyterhub"
  },
  "language_info": {
   "codemirror_mode": {
    "name": "ipython",
    "version": 3
   },
   "file_extension": ".py",
   "mimetype": "text/x-python",
   "name": "python",
   "nbconvert_exporter": "python",
   "pygments_lexer": "ipython3",
   "version": "3.5.2"
  }
 },
 "nbformat": 4,
 "nbformat_minor": 2
}
