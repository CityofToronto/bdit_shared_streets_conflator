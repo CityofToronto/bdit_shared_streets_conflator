{
 "cells": [
  {
   "cell_type": "code",
   "execution_count": 305,
   "metadata": {},
   "outputs": [],
   "source": [
    "from pathlib import Path\n",
    "import configparser\n",
    "from psycopg2 import connect\n",
    "import pandas.io.sql as pandasql\n",
    "from IPython.display import HTML\n",
    "from psycopg2.extras import execute_values\n",
    "import requests\n",
    "from psycopg2.extras import RealDictCursor\n",
    "import json\n",
    "CONFIG = configparser.ConfigParser()\n",
    "CONFIG.read(str(Path.home().joinpath('db.cfg')))\n",
    "dbset = CONFIG['DBSETTINGS']\n",
    "con = connect(**dbset)"
   ]
  },
  {
   "cell_type": "code",
   "execution_count": 306,
   "metadata": {},
   "outputs": [],
   "source": [
    "# Pull data from postgres"
   ]
  },
  {
   "cell_type": "code",
   "execution_count": 307,
   "metadata": {},
   "outputs": [],
   "source": [
    "get_centreline_sql = '''SELECT 'Feature' as type,  json_build_object('gid', gid) as properties, ST_AsGeoJson(geom)::json as geometry FROM gis.centreline WHERE FCODE_DESC IN ('Collector','Collector Ramp','Expressway','Expressway Ramp',\n",
    "'Local','Major Arterial','Major Arterial Ramp','Minor Arterial',\n",
    "'Minor Arterial Ramp','Pending') ORDER BY gid LIMIT 100'''\n",
    "\n",
    "with con:\n",
    "    with con.cursor(cursor_factory=RealDictCursor) as cur:\n",
    "        cur.execute(get_centreline_sql)\n",
    "        results = cur.fetchall()\n",
    "        final_json = json.dumps({\"type\": \"FeatureCollection\",\n",
    "                                \"features\": results})\n"
   ]
  },
  {
   "cell_type": "code",
   "execution_count": 308,
   "metadata": {},
   "outputs": [],
   "source": [
    "# Send data to SharedStreets API"
   ]
  },
  {
   "cell_type": "code",
   "execution_count": 309,
   "metadata": {},
   "outputs": [],
   "source": [
    "base_url = \"https://api.sharedstreets.io/v0.1.0/match/geoms\"\n",
    "apiKey = \"bdd23fa1-7ac5-4158-b354-22ec946bb575\"\n",
    "params = {'ignoreDirection': 'false',\n",
    "          'bearingTolerance' : 45 ,\n",
    "          'searchRadius' : 60,\n",
    "          'auth' : apiKey,\n",
    "          'tileHierarchy': 6,\n",
    "          'dataSource': 'osm/planet-181029',\n",
    "          'lengthTolerance' : 0.60,\n",
    "          'snapTopology': 'true'\n",
    "         }\n",
    "headers= {\"Content-type\": \"application/json; charset=UTF-8\"}\n"
   ]
  },
  {
   "cell_type": "code",
   "execution_count": 310,
   "metadata": {},
   "outputs": [],
   "source": [
    "r = requests.post(base_url, params = params, headers = headers, json = {\"type\": \"FeatureCollection\", \"features\": results})"
   ]
  },
  {
   "cell_type": "code",
   "execution_count": 311,
   "metadata": {},
   "outputs": [],
   "source": [
    "returned_json = r.json()"
   ]
  },
  {
   "cell_type": "code",
   "execution_count": 312,
   "metadata": {},
   "outputs": [],
   "source": [
    "feature = returned_json.get('matched').get('features')[0]"
   ]
  },
  {
   "cell_type": "code",
   "execution_count": 204,
   "metadata": {},
   "outputs": [],
   "source": [
    "# Send row to database"
   ]
  },
  {
   "cell_type": "code",
   "execution_count": 338,
   "metadata": {},
   "outputs": [],
   "source": [
    "features = returned_json.get('matched').get('features')\n",
    "rows = []\n",
    "for feature in features:\n",
    "    row = (feature['properties']['referenceId'], \n",
    "           feature['properties']['fromIntersectionId'],\n",
    "           feature['properties']['toIntersectionId'],\n",
    "           feature['properties']['roadClass'], \n",
    "           feature['properties']['direction'],\n",
    "           feature['properties']['referenceLength'],\n",
    "           feature['properties']['side'], \n",
    "           feature['properties'].get('score', None),\n",
    "           '[' + str(feature['properties']['section'][0]) +', '+ str(feature['properties']['section'][1]) +')', \n",
    "           'SRID=4326;LineString('+','.join(' '.join(str(x) for x in tup) for tup in feature['geometry']['coordinates'])+')', \n",
    "           feature['properties']['originalFeature']['properties']['gid'])\n",
    "    rows.append(row)\n",
    "    "
   ]
  },
  {
   "cell_type": "code",
   "execution_count": 339,
   "metadata": {},
   "outputs": [],
   "source": [
    "sql='INSERT INTO natalie.test_table (reference_id, from_intersection, to_intersection, road_class, direction, reference_length, side,score, section, geometry, gid) VALUES %s'\n",
    "\n",
    "with con:\n",
    "    with con.cursor() as cur:\n",
    "        execute_values(cur, \n",
    "                       sql, \n",
    "                       rows)\n"
   ]
  }
 ],
 "metadata": {
  "kernelspec": {
   "display_name": "jupyterhub",
   "language": "python",
   "name": "jupyterhub"
  },
  "language_info": {
   "codemirror_mode": {
    "name": "ipython",
    "version": 3
   },
   "file_extension": ".py",
   "mimetype": "text/x-python",
   "name": "python",
   "nbconvert_exporter": "python",
   "pygments_lexer": "ipython3",
   "version": "3.5.2"
  }
 },
 "nbformat": 4,
 "nbformat_minor": 2
}
