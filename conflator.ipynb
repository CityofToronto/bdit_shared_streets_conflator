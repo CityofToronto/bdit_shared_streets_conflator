{
 "cells": [
  {
   "cell_type": "code",
   "execution_count": 192,
   "metadata": {},
   "outputs": [],
   "source": [
    "from pathlib import Path\n",
    "import configparser\n",
    "from psycopg2 import connect\n",
    "import pandas.io.sql as pandasql\n",
    "from IPython.display import HTML\n",
    "from psycopg2.extras import execute_values\n",
    "import requests\n",
    "from psycopg2.extras import RealDictCursor\n",
    "import json\n",
    "CONFIG = configparser.ConfigParser()\n",
    "CONFIG.read(str(Path.home().joinpath('db.cfg')))\n",
    "dbset = CONFIG['DBSETTINGS']\n",
    "con = connect(**dbset)"
   ]
  },
  {
   "cell_type": "code",
   "execution_count": null,
   "metadata": {},
   "outputs": [],
   "source": [
    "# Pull data from postgres"
   ]
  },
  {
   "cell_type": "code",
   "execution_count": 193,
   "metadata": {},
   "outputs": [],
   "source": [
    "get_centreline_sql = '''SELECT 'Feature' as type,  json_build_object('gid', gid) as properties, ST_AsGeoJson(geom)::json as geometry FROM gis.centreline WHERE FCODE_DESC IN ('Collector','Collector Ramp','Expressway','Expressway Ramp',\n",
    "'Local','Major Arterial','Major Arterial Ramp','Minor Arterial',\n",
    "'Minor Arterial Ramp','Pending') ORDER BY gid LIMIT 100'''\n",
    "\n",
    "with con:\n",
    "    with con.cursor(cursor_factory=RealDictCursor) as cur:\n",
    "        cur.execute(get_centreline_sql)\n",
    "        results = cur.fetchall()\n",
    "        final_json = json.dumps({\"type\": \"FeatureCollection\",\n",
    "                                \"features\": results})\n"
   ]
  },
  {
   "cell_type": "code",
   "execution_count": null,
   "metadata": {},
   "outputs": [],
   "source": [
    "# Send data to SharedStreets API"
   ]
  },
  {
   "cell_type": "code",
   "execution_count": 200,
   "metadata": {},
   "outputs": [],
   "source": [
    "base_url = \"https://api.sharedstreets.io/v0.1.0/match/geoms\"\n",
    "apiKey = \"bdd23fa1-7ac5-4158-b354-22ec946bb575\"\n",
    "params = {'ignoreDirection': 'false',\n",
    "          'bearingTolerance' : 45 ,\n",
    "          'searchRadius' : 60,\n",
    "          'auth' : apiKey,\n",
    "          'tileHierarchy': 6,\n",
    "          'dataSource': 'osm/planet-181029',\n",
    "          'lengthTolerance' : 0.60,\n",
    "          'snapTopology': 'true'\n",
    "         }\n",
    "headers= {\"Content-type\": \"application/json; charset=UTF-8\"}\n"
   ]
  },
  {
   "cell_type": "code",
   "execution_count": 201,
   "metadata": {},
   "outputs": [],
   "source": [
    "r = requests.post(base_url, params = params, headers = headers, json = {\"type\": \"FeatureCollection\", \"features\": results})"
   ]
  },
  {
   "cell_type": "code",
   "execution_count": 202,
   "metadata": {},
   "outputs": [],
   "source": [
    "returned_json = r.json()"
   ]
  },
  {
   "cell_type": "code",
   "execution_count": 208,
   "metadata": {},
   "outputs": [],
   "source": [
    "feature = returned_json.get('matched').get('features')[0]"
   ]
  },
  {
   "cell_type": "code",
   "execution_count": 217,
   "metadata": {},
   "outputs": [
    {
     "name": "stdout",
     "output_type": "stream",
     "text": [
      "numrange(0.39074573712912297, 14.153055239319883)\n"
     ]
    }
   ],
   "source": [
    "print('numrange(' + str(feature['properties']['section'][0]) +', '+ str(feature['properties']['section'][1]) +')')"
   ]
  },
  {
   "cell_type": "code",
   "execution_count": 204,
   "metadata": {},
   "outputs": [],
   "source": [
    "# Send row to database"
   ]
  },
  {
   "cell_type": "code",
   "execution_count": 268,
   "metadata": {},
   "outputs": [],
   "source": [
    "features = returned_json.get('matched').get('features')\n",
    "rows = []\n",
    "for feature in features:\n",
    "    row = (feature['properties']['referenceId'], \n",
    "           feature['properties']['fromIntersectionId'],\n",
    "           feature['properties']['toIntersectionId'],\n",
    "           feature['properties']['roadClass'], \n",
    "           feature['properties']['direction'],\n",
    "           feature['properties']['referenceLength'],\n",
    "           feature['properties']['side'], \n",
    "           feature['properties'].get('score', 'NULL'),\n",
    "#            'numrange(' + str(feature['properties']['section'][0]) +', '+ str(feature['properties']['section'][1]) +')', \n",
    "           '[' + str(feature['properties']['section'][0]) +', '+ str(feature['properties']['section'][1]) +')', \n",
    "           str('ST_GeomfromGeojson(')+json.dumps(feature0['geometry'])+')', \n",
    "           feature['properties']['originalFeature']['properties']['gid'])\n",
    "    rows.append(row)\n",
    "    "
   ]
  },
  {
   "cell_type": "code",
   "execution_count": 269,
   "metadata": {},
   "outputs": [
    {
     "ename": "InternalError",
     "evalue": "parse error - invalid geometry\nLINE 1: ...nown','[0.39074573712912297, 14.153055239319883)','ST_Geomfr...\n                                                             ^\nHINT:  \"ST\" <-- parse error at position 2 within geometry\n",
     "output_type": "error",
     "traceback": [
      "\u001b[0;31m---------------------------------------------------------------------------\u001b[0m",
      "\u001b[0;31mInternalError\u001b[0m                             Traceback (most recent call last)",
      "\u001b[0;32m<ipython-input-269-f93b8c0ce81e>\u001b[0m in \u001b[0;36m<module>\u001b[0;34m\u001b[0m\n\u001b[1;32m      5\u001b[0m         execute_values(cur, \n\u001b[1;32m      6\u001b[0m                        \u001b[0msql\u001b[0m\u001b[0;34m,\u001b[0m\u001b[0;34m\u001b[0m\u001b[0m\n\u001b[0;32m----> 7\u001b[0;31m                        rows)\n\u001b[0m",
      "\u001b[0;32m/etc/jupyterhub/.venv/lib/python3.5/site-packages/psycopg2/extras.py\u001b[0m in \u001b[0;36mexecute_values\u001b[0;34m(cur, sql, argslist, template, page_size)\u001b[0m\n\u001b[1;32m   1276\u001b[0m             \u001b[0mparts\u001b[0m\u001b[0;34m.\u001b[0m\u001b[0mappend\u001b[0m\u001b[0;34m(\u001b[0m\u001b[0;34mb','\u001b[0m\u001b[0;34m)\u001b[0m\u001b[0;34m\u001b[0m\u001b[0m\n\u001b[1;32m   1277\u001b[0m         \u001b[0mparts\u001b[0m\u001b[0;34m[\u001b[0m\u001b[0;34m-\u001b[0m\u001b[0;36m1\u001b[0m\u001b[0;34m:\u001b[0m\u001b[0;34m]\u001b[0m \u001b[0;34m=\u001b[0m \u001b[0mpost\u001b[0m\u001b[0;34m\u001b[0m\u001b[0m\n\u001b[0;32m-> 1278\u001b[0;31m         \u001b[0mcur\u001b[0m\u001b[0;34m.\u001b[0m\u001b[0mexecute\u001b[0m\u001b[0;34m(\u001b[0m\u001b[0;34mb''\u001b[0m\u001b[0;34m.\u001b[0m\u001b[0mjoin\u001b[0m\u001b[0;34m(\u001b[0m\u001b[0mparts\u001b[0m\u001b[0;34m)\u001b[0m\u001b[0;34m)\u001b[0m\u001b[0;34m\u001b[0m\u001b[0m\n\u001b[0m\u001b[1;32m   1279\u001b[0m \u001b[0;34m\u001b[0m\u001b[0m\n\u001b[1;32m   1280\u001b[0m \u001b[0;34m\u001b[0m\u001b[0m\n",
      "\u001b[0;31mInternalError\u001b[0m: parse error - invalid geometry\nLINE 1: ...nown','[0.39074573712912297, 14.153055239319883)','ST_Geomfr...\n                                                             ^\nHINT:  \"ST\" <-- parse error at position 2 within geometry\n"
     ]
    }
   ],
   "source": [
    "sql='INSERT INTO natalie.test_table (reference_id, from_intersection, to_intersection, road_class, direction, reference_length, side, score,  section, geometry, gid) VALUES %s'\n",
    "\n",
    "with con:\n",
    "    with con.cursor() as cur:\n",
    "        execute_values(cur, \n",
    "                       sql, \n",
    "                       rows)\n"
   ]
  },
  {
   "cell_type": "code",
   "execution_count": 222,
   "metadata": {},
   "outputs": [
    {
     "data": {
      "text/plain": [
       "'{\"coordinates\": [[-79.54301264504791, 43.59272670361093], [-79.54305330000001, 43.592615800000004], [-79.54306049139689, 43.59260843398357]], \"type\": \"LineString\"}'"
      ]
     },
     "execution_count": 222,
     "metadata": {},
     "output_type": "execute_result"
    }
   ],
   "source": [
    "json.dumps(feature0['geometry'])"
   ]
  },
  {
   "cell_type": "code",
   "execution_count": 241,
   "metadata": {},
   "outputs": [
    {
     "data": {
      "text/plain": [
       "'numrange(0.39074573712912297, 14.153055239319883)'"
      ]
     },
     "execution_count": 241,
     "metadata": {},
     "output_type": "execute_result"
    }
   ],
   "source": [
    "'numrange(' + str(feature0['properties']['section'][0]) +', '+ str(feature0['properties']['section'][1]) +')'"
   ]
  },
  {
   "cell_type": "code",
   "execution_count": 207,
   "metadata": {},
   "outputs": [
    {
     "name": "stdout",
     "output_type": "stream",
     "text": [
      "apple\n",
      "banana\n",
      "orange\n"
     ]
    }
   ],
   "source": [
    "for fruit in ['apple','banana', 'orange']:\n",
    "    print(fruit)"
   ]
  },
  {
   "cell_type": "code",
   "execution_count": 267,
   "metadata": {},
   "outputs": [
    {
     "data": {
      "text/plain": [
       "0.6647517397903042"
      ]
     },
     "execution_count": 267,
     "metadata": {},
     "output_type": "execute_result"
    }
   ],
   "source": [
    "feature1['properties'].get('score', 'NULL')"
   ]
  },
  {
   "cell_type": "code",
   "execution_count": 265,
   "metadata": {},
   "outputs": [
    {
     "data": {
      "text/plain": [
       "0.6647517397903042"
      ]
     },
     "execution_count": 265,
     "metadata": {},
     "output_type": "execute_result"
    }
   ],
   "source": [
    "feature1 = features[1]\n",
    "feature1['properties']['score']"
   ]
  }
 ],
 "metadata": {
  "kernelspec": {
   "display_name": "jupyterhub",
   "language": "python",
   "name": "jupyterhub"
  },
  "language_info": {
   "codemirror_mode": {
    "name": "ipython",
    "version": 3
   },
   "file_extension": ".py",
   "mimetype": "text/x-python",
   "name": "python",
   "nbconvert_exporter": "python",
   "pygments_lexer": "ipython3",
   "version": "3.5.2"
  }
 },
 "nbformat": 4,
 "nbformat_minor": 2
}
